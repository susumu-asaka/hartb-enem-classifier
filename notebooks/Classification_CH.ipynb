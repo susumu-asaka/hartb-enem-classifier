{
 "cells": [
  {
   "cell_type": "markdown",
   "metadata": {
    "pycharm": {}
   },
   "source": [
    "# Classificação CH\n",
    "\n",
    "Neste notebook vamos treinar um modelo de regressão logística para predizer a probabilidade de um candidato ser aprovado na prova de ciências humanas com base nas suas respostas na inscrição do ENEM."
   ]
  },
  {
   "cell_type": "markdown",
   "metadata": {
    "pycharm": {}
   },
   "source": [
    "## Carregar pacotes\n",
    "\n",
    "O código abaixo carrega os pacotes necessários."
   ]
  },
  {
   "cell_type": "code",
   "execution_count": 1,
   "metadata": {
    "pycharm": {
     "is_executing": false
    }
   },
   "outputs": [],
   "source": [
    "import pandas as pd\n",
    "import matplotlib.pyplot as plt\n",
    "import seaborn as sns\n",
    "import numpy as np\n",
    "from sklearn import preprocessing\n",
    "import sklearn.model_selection as ms\n",
    "from sklearn import linear_model\n",
    "import sklearn.metrics as sklm\n",
    "\n",
    "%matplotlib inline"
   ]
  },
  {
   "cell_type": "markdown",
   "metadata": {
    "pycharm": {}
   },
   "source": [
    "## Carregar o dataset preparado\n",
    "\n",
    "Vamos carregar o dataset que foi preparado."
   ]
  },
  {
   "cell_type": "code",
   "execution_count": 2,
   "metadata": {
    "pycharm": {
     "is_executing": false
    }
   },
   "outputs": [
    {
     "name": "stdout",
     "text": [
      "(171253, 125)\n"
     ],
     "output_type": "stream"
    },
    {
     "data": {
      "text/plain": "   NU_INSCRICAO  NU_ANO  CO_MUNICIPIO_RESIDENCIA NO_MUNICIPIO_RESIDENCIA  \\\n0  170005778262    2017                  2108900         Poção de Pedras   \n1  170004397810    2017                  2108900         Poção de Pedras   \n2  170000870390    2017                  2108900         Poção de Pedras   \n3  170000132887    2017                  2108900         Poção de Pedras   \n4  170004998577    2017                  2108900         Poção de Pedras   \n\n   CO_UF_RESIDENCIA SG_UF_RESIDENCIA  NU_IDADE TP_SEXO  TP_ESTADO_CIVIL  \\\n0                21               MA        20       M                0   \n1                21               MA        21       M                0   \n2                21               MA        30       M                1   \n3                21               MA        18       M                0   \n4                21               MA        20       M                0   \n\n   TP_COR_RACA  ...  TP_LOCALIZACAO  TP_SIT_FUNC  NU_COMPARECIMENTO_CN_y  \\\n0            3  ...               0            0                 3049502   \n1            3  ...               0            0                 3049502   \n2            2  ...               0            0                 3049502   \n3            3  ...               0            0                 3049502   \n4            3  ...               0            0                 3049502   \n\n   PC_APROVACAO_CN_y  NU_COMPARECIMENTO_CH_y  PC_APROVACAO_CH_y  \\\n0              0.034                 3242965               0.05   \n1              0.034                 3242965               0.05   \n2              0.034                 3242965               0.05   \n3              0.034                 3242965               0.05   \n4              0.034                 3242965               0.05   \n\n   NU_COMPARECIMENTO_LC_y  PC_APROVACAO_LC_y  NU_COMPARECIMENTO_MT_y  \\\n0                 3242965              0.008                 3049502   \n1                 3242965              0.008                 3049502   \n2                 3242965              0.008                 3049502   \n3                 3242965              0.008                 3049502   \n4                 3242965              0.008                 3049502   \n\n   PC_APROVACAO_MT_y  \n0              0.121  \n1              0.121  \n2              0.121  \n3              0.121  \n4              0.121  \n\n[5 rows x 125 columns]",
      "text/html": "<div>\n<style scoped>\n    .dataframe tbody tr th:only-of-type {\n        vertical-align: middle;\n    }\n\n    .dataframe tbody tr th {\n        vertical-align: top;\n    }\n\n    .dataframe thead th {\n        text-align: right;\n    }\n</style>\n<table border=\"1\" class=\"dataframe\">\n  <thead>\n    <tr style=\"text-align: right;\">\n      <th></th>\n      <th>NU_INSCRICAO</th>\n      <th>NU_ANO</th>\n      <th>CO_MUNICIPIO_RESIDENCIA</th>\n      <th>NO_MUNICIPIO_RESIDENCIA</th>\n      <th>CO_UF_RESIDENCIA</th>\n      <th>SG_UF_RESIDENCIA</th>\n      <th>NU_IDADE</th>\n      <th>TP_SEXO</th>\n      <th>TP_ESTADO_CIVIL</th>\n      <th>TP_COR_RACA</th>\n      <th>...</th>\n      <th>TP_LOCALIZACAO</th>\n      <th>TP_SIT_FUNC</th>\n      <th>NU_COMPARECIMENTO_CN_y</th>\n      <th>PC_APROVACAO_CN_y</th>\n      <th>NU_COMPARECIMENTO_CH_y</th>\n      <th>PC_APROVACAO_CH_y</th>\n      <th>NU_COMPARECIMENTO_LC_y</th>\n      <th>PC_APROVACAO_LC_y</th>\n      <th>NU_COMPARECIMENTO_MT_y</th>\n      <th>PC_APROVACAO_MT_y</th>\n    </tr>\n  </thead>\n  <tbody>\n    <tr>\n      <th>0</th>\n      <td>170005778262</td>\n      <td>2017</td>\n      <td>2108900</td>\n      <td>Poção de Pedras</td>\n      <td>21</td>\n      <td>MA</td>\n      <td>20</td>\n      <td>M</td>\n      <td>0</td>\n      <td>3</td>\n      <td>...</td>\n      <td>0</td>\n      <td>0</td>\n      <td>3049502</td>\n      <td>0.034</td>\n      <td>3242965</td>\n      <td>0.05</td>\n      <td>3242965</td>\n      <td>0.008</td>\n      <td>3049502</td>\n      <td>0.121</td>\n    </tr>\n    <tr>\n      <th>1</th>\n      <td>170004397810</td>\n      <td>2017</td>\n      <td>2108900</td>\n      <td>Poção de Pedras</td>\n      <td>21</td>\n      <td>MA</td>\n      <td>21</td>\n      <td>M</td>\n      <td>0</td>\n      <td>3</td>\n      <td>...</td>\n      <td>0</td>\n      <td>0</td>\n      <td>3049502</td>\n      <td>0.034</td>\n      <td>3242965</td>\n      <td>0.05</td>\n      <td>3242965</td>\n      <td>0.008</td>\n      <td>3049502</td>\n      <td>0.121</td>\n    </tr>\n    <tr>\n      <th>2</th>\n      <td>170000870390</td>\n      <td>2017</td>\n      <td>2108900</td>\n      <td>Poção de Pedras</td>\n      <td>21</td>\n      <td>MA</td>\n      <td>30</td>\n      <td>M</td>\n      <td>1</td>\n      <td>2</td>\n      <td>...</td>\n      <td>0</td>\n      <td>0</td>\n      <td>3049502</td>\n      <td>0.034</td>\n      <td>3242965</td>\n      <td>0.05</td>\n      <td>3242965</td>\n      <td>0.008</td>\n      <td>3049502</td>\n      <td>0.121</td>\n    </tr>\n    <tr>\n      <th>3</th>\n      <td>170000132887</td>\n      <td>2017</td>\n      <td>2108900</td>\n      <td>Poção de Pedras</td>\n      <td>21</td>\n      <td>MA</td>\n      <td>18</td>\n      <td>M</td>\n      <td>0</td>\n      <td>3</td>\n      <td>...</td>\n      <td>0</td>\n      <td>0</td>\n      <td>3049502</td>\n      <td>0.034</td>\n      <td>3242965</td>\n      <td>0.05</td>\n      <td>3242965</td>\n      <td>0.008</td>\n      <td>3049502</td>\n      <td>0.121</td>\n    </tr>\n    <tr>\n      <th>4</th>\n      <td>170004998577</td>\n      <td>2017</td>\n      <td>2108900</td>\n      <td>Poção de Pedras</td>\n      <td>21</td>\n      <td>MA</td>\n      <td>20</td>\n      <td>M</td>\n      <td>0</td>\n      <td>3</td>\n      <td>...</td>\n      <td>0</td>\n      <td>0</td>\n      <td>3049502</td>\n      <td>0.034</td>\n      <td>3242965</td>\n      <td>0.05</td>\n      <td>3242965</td>\n      <td>0.008</td>\n      <td>3049502</td>\n      <td>0.121</td>\n    </tr>\n  </tbody>\n</table>\n<p>5 rows × 125 columns</p>\n</div>"
     },
     "metadata": {},
     "output_type": "execute_result",
     "execution_count": 2
    }
   ],
   "source": [
    "enem = pd.read_csv('../data/enem_preparado.csv')\n",
    "print(enem.shape)\n",
    "enem.head()"
   ]
  },
  {
   "cell_type": "markdown",
   "metadata": {
    "pycharm": {}
   },
   "source": [
    "Existem 125 colunas, 1 número de inscrição, 120 features, e 4 colunas de label, uma para cada prova. Essas features correspondem às respostas dadas pelo candidato na inscrição do ENEM.\n"
   ]
  },
  {
   "cell_type": "markdown",
   "metadata": {
    "pycharm": {}
   },
   "source": [
    "O código abaixo apresenta o número de candidatos que foram aprovados e que não foram aprovados na prova CH."
   ]
  },
  {
   "cell_type": "code",
   "execution_count": 3,
   "outputs": [
    {
     "name": "stdout",
     "text": [
      "LB_APROVADO_CH\n0    162745\n1      8508\ndtype: int64\n"
     ],
     "output_type": "stream"
    }
   ],
   "source": [
    "cont_aprov = enem.groupby(\"LB_APROVADO_CH\").size()\n",
    "print(cont_aprov)"
   ],
   "metadata": {
    "collapsed": false,
    "pycharm": {
     "name": "#%%\n",
     "is_executing": false
    }
   }
  },
  {
   "cell_type": "markdown",
   "metadata": {
    "pycharm": {}
   },
   "source": [
    "Note que apenas 5.0% dos candidatos foram aprovados na prova CH. Esse desbalanceamento vai enviesar o treinamento de qualquer modelo."
   ]
  },
  {
   "cell_type": "markdown",
   "metadata": {
    "pycharm": {}
   },
   "source": [
    "## Preparar dados para o modelo Scikit-learn\n",
    "O código na célula abaixo cria um array numpy com os valores dos labels."
   ]
  },
  {
   "cell_type": "code",
   "execution_count": 4,
   "metadata": {
    "pycharm": {
     "is_executing": false
    }
   },
   "outputs": [],
   "source": [
    "labels = np.array(enem[\"LB_APROVADO_CH\"])"
   ]
  },
  {
   "cell_type": "markdown",
   "metadata": {
    "pycharm": {}
   },
   "source": [
    "Agora, precisamos criar o vetor de features ou matriz do modelo. Como primeiro passo as variáveis categóricas precisam ser recodificadas no padrão One-Hot.\n",
    "\n",
    "Decidimos não usar os indicadores de pedidos de atendimento especializado, como deficiência, visto que esses casos representam uma parcela muito pequena da amostra e, assim, terão influência desprezível no treinamento.\n",
    "\n",
    "Isso é feito no código abaixo."
   ]
  },
  {
   "cell_type": "code",
   "execution_count": 5,
   "metadata": {
    "pycharm": {
     "is_executing": false
    }
   },
   "outputs": [
    {
     "name": "stdout",
     "text": [
      "(171253, 217)\n[[0. 0. 0. 0. 0. 1. 0. 0. 0. 0. 0. 0. 0. 0. 0. 0. 0. 0. 0. 0. 0. 0. 0. 0.\n  0. 0. 1. 1. 0. 0. 0. 0. 0. 0. 1. 0. 0. 0. 1. 0. 0. 0. 1. 0. 0. 0. 0. 1.\n  0. 0. 0. 0. 0. 0. 0. 0. 0. 0. 1. 0. 0. 0. 1. 0. 0. 0. 0. 1. 0. 0. 0. 0.\n  0. 0. 0. 1. 0. 0. 0. 0. 1. 0. 0. 0. 0. 0. 1. 0. 0. 0. 0. 0. 0. 0. 0. 0.\n  1. 0. 0. 0. 0. 0. 0. 0. 0. 0. 0. 0. 0. 0. 0. 0. 1. 0. 0. 0. 0. 0. 0. 0.\n  0. 0. 0. 0. 0. 0. 0. 0. 0. 1. 0. 0. 0. 0. 1. 0. 0. 0. 0. 1. 0. 0. 0. 1.\n  0. 0. 0. 0. 0. 1. 0. 0. 0. 0. 1. 0. 0. 0. 1. 0. 0. 0. 0. 1. 0. 0. 0. 0.\n  1. 0. 0. 0. 0. 1. 0. 0. 0. 0. 1. 0. 0. 0. 0. 1. 0. 1. 0. 0. 0. 0. 1. 0.\n  1. 0. 1. 0. 0. 0. 0. 1. 0. 1. 0. 0. 0. 0. 1. 0. 1. 0. 0. 0. 1. 0. 0. 0.\n  0.]\n [0. 0. 0. 0. 0. 0. 1. 0. 0. 0. 0. 0. 0. 0. 0. 0. 0. 0. 0. 0. 0. 0. 0. 0.\n  0. 0. 1. 1. 0. 0. 0. 0. 0. 0. 1. 0. 0. 0. 1. 0. 0. 0. 1. 0. 0. 0. 0. 0.\n  0. 1. 0. 0. 0. 0. 0. 0. 0. 0. 1. 0. 0. 0. 1. 0. 0. 1. 0. 0. 0. 0. 0. 0.\n  0. 0. 1. 0. 0. 0. 0. 0. 1. 0. 0. 0. 0. 0. 1. 0. 0. 0. 0. 0. 0. 0. 0. 1.\n  0. 0. 0. 0. 0. 0. 0. 0. 0. 0. 0. 0. 0. 0. 0. 0. 0. 1. 0. 0. 0. 0. 0. 0.\n  0. 0. 0. 0. 0. 0. 0. 0. 0. 1. 0. 0. 0. 0. 1. 0. 0. 0. 0. 0. 1. 0. 0. 1.\n  0. 0. 0. 0. 1. 0. 0. 0. 0. 1. 0. 0. 0. 0. 0. 1. 0. 0. 0. 1. 0. 0. 0. 0.\n  1. 0. 0. 0. 0. 1. 0. 0. 0. 0. 1. 0. 0. 0. 0. 1. 0. 0. 1. 0. 0. 0. 1. 0.\n  1. 0. 0. 0. 1. 0. 0. 1. 0. 1. 0. 0. 0. 0. 1. 0. 1. 0. 0. 0. 1. 0. 0. 0.\n  0.]]\n"
     ],
     "output_type": "stream"
    }
   ],
   "source": [
    "def encode_string(cat_feature: pd.Series):\n",
    "    encoder = preprocessing.OneHotEncoder(categories=\"auto\", sparse=False)\n",
    "    return encoder.fit_transform(cat_feature.values.reshape(-1, 1))\n",
    "\n",
    "categorical_columns = [\n",
    "    \"TP_FAIXA_ETARIA\",\n",
    "    \"TP_SEXO\",\n",
    "    \"TP_ESTADO_CIVIL\",\n",
    "    \"TP_COR_RACA\",\n",
    "    \"TP_NACIONALIDADE\",\n",
    "    \"TP_ST_CONCLUSAO\",\n",
    "    \"TP_ANO_CONCLUIU\",\n",
    "    \"TP_ESCOLA\",\n",
    "    \"IN_TREINEIRO\",\n",
    "    \"Q001\",\n",
    "    \"Q002\",\n",
    "    \"Q003\",\n",
    "    \"Q004\",\n",
    "    \"Q005\",\n",
    "    \"Q006\",\n",
    "    \"Q007\",\n",
    "    \"Q008\",\n",
    "    \"Q009\",\n",
    "    \"Q010\",\n",
    "    \"Q011\",\n",
    "    \"Q012\",\n",
    "    \"Q013\",\n",
    "    \"Q014\",\n",
    "    \"Q015\",\n",
    "    \"Q016\",\n",
    "    \"Q017\",\n",
    "    \"Q018\",\n",
    "    \"Q019\",\n",
    "    \"Q020\",\n",
    "    \"Q021\",\n",
    "    \"Q022\",\n",
    "    \"Q023\",\n",
    "    \"Q024\",\n",
    "    \"Q025\",\n",
    "    \"Q026\",\n",
    "    \"Q027\",\n",
    "]\n",
    "\n",
    "Features = np.empty((enem.shape[0], 0))\n",
    "for col in categorical_columns:\n",
    "    temp = encode_string(enem[col])\n",
    "    Features = np.concatenate([Features, temp], axis = 1)\n",
    "\n",
    "print(Features.shape)\n",
    "print(Features[:2, :])    "
   ]
  },
  {
   "cell_type": "markdown",
   "metadata": {
    "pycharm": {}
   },
   "source": [
    "Em seguida os features numéricos devem ser concatenados ao array numpy executando o código na célula abaixo."
   ]
  },
  {
   "cell_type": "code",
   "execution_count": 6,
   "metadata": {
    "pycharm": {
     "is_executing": false
    }
   },
   "outputs": [
    {
     "name": "stdout",
     "text": [
      "(171253, 225)\n[[0.    0.    0.    0.    0.    1.    0.    0.    0.    0.    0.    0.\n  0.    0.    0.    0.    0.    0.    0.    0.    0.    0.    0.    0.\n  0.    0.    1.    1.    0.    0.    0.    0.    0.    0.    1.    0.\n  0.    0.    1.    0.    0.    0.    1.    0.    0.    0.    0.    1.\n  0.    0.    0.    0.    0.    0.    0.    0.    0.    0.    1.    0.\n  0.    0.    1.    0.    0.    0.    0.    1.    0.    0.    0.    0.\n  0.    0.    0.    1.    0.    0.    0.    0.    1.    0.    0.    0.\n  0.    0.    1.    0.    0.    0.    0.    0.    0.    0.    0.    0.\n  1.    0.    0.    0.    0.    0.    0.    0.    0.    0.    0.    0.\n  0.    0.    0.    0.    1.    0.    0.    0.    0.    0.    0.    0.\n  0.    0.    0.    0.    0.    0.    0.    0.    0.    1.    0.    0.\n  0.    0.    1.    0.    0.    0.    0.    1.    0.    0.    0.    1.\n  0.    0.    0.    0.    0.    1.    0.    0.    0.    0.    1.    0.\n  0.    0.    1.    0.    0.    0.    0.    1.    0.    0.    0.    0.\n  1.    0.    0.    0.    0.    1.    0.    0.    0.    0.    1.    0.\n  0.    0.    0.    1.    0.    1.    0.    0.    0.    0.    1.    0.\n  1.    0.    1.    0.    0.    0.    0.    1.    0.    1.    0.    0.\n  0.    0.    1.    0.    1.    0.    0.    0.    1.    0.    0.    0.\n  0.    0.014 0.01  0.    0.037 0.034 0.05  0.008 0.121]\n [0.    0.    0.    0.    0.    0.    1.    0.    0.    0.    0.    0.\n  0.    0.    0.    0.    0.    0.    0.    0.    0.    0.    0.    0.\n  0.    0.    1.    1.    0.    0.    0.    0.    0.    0.    1.    0.\n  0.    0.    1.    0.    0.    0.    1.    0.    0.    0.    0.    0.\n  0.    1.    0.    0.    0.    0.    0.    0.    0.    0.    1.    0.\n  0.    0.    1.    0.    0.    1.    0.    0.    0.    0.    0.    0.\n  0.    0.    1.    0.    0.    0.    0.    0.    1.    0.    0.    0.\n  0.    0.    1.    0.    0.    0.    0.    0.    0.    0.    0.    1.\n  0.    0.    0.    0.    0.    0.    0.    0.    0.    0.    0.    0.\n  0.    0.    0.    0.    0.    1.    0.    0.    0.    0.    0.    0.\n  0.    0.    0.    0.    0.    0.    0.    0.    0.    1.    0.    0.\n  0.    0.    1.    0.    0.    0.    0.    0.    1.    0.    0.    1.\n  0.    0.    0.    0.    1.    0.    0.    0.    0.    1.    0.    0.\n  0.    0.    0.    1.    0.    0.    0.    1.    0.    0.    0.    0.\n  1.    0.    0.    0.    0.    1.    0.    0.    0.    0.    1.    0.\n  0.    0.    0.    1.    0.    0.    1.    0.    0.    0.    1.    0.\n  1.    0.    0.    0.    1.    0.    0.    1.    0.    1.    0.    0.\n  0.    0.    1.    0.    1.    0.    0.    0.    1.    0.    0.    0.\n  0.    0.014 0.01  0.    0.037 0.034 0.05  0.008 0.121]]\n"
     ],
     "output_type": "stream"
    }
   ],
   "source": [
    "Features = np.concatenate(\n",
    "    [\n",
    "        Features,\n",
    "        enem[\n",
    "            [\n",
    "                \"PC_APROVACAO_CN_x\",\n",
    "                \"PC_APROVACAO_CH_x\",\n",
    "                \"PC_APROVACAO_LC_x\",\n",
    "                \"PC_APROVACAO_MT_x\",\n",
    "                \"PC_APROVACAO_CN_y\",\n",
    "                \"PC_APROVACAO_CH_y\",\n",
    "                \"PC_APROVACAO_LC_y\",\n",
    "                \"PC_APROVACAO_MT_y\",\n",
    "            ]\n",
    "        ].values,\n",
    "    ],\n",
    "    axis=1,\n",
    ")\n",
    "print(Features.shape)\n",
    "print(Features[:2, :])   "
   ]
  },
  {
   "cell_type": "markdown",
   "metadata": {
    "pycharm": {}
   },
   "source": [
    "Com a codificação as 36 features categóricas originais agora são 217 one-hot features. Com mais 8 features numéricas, existe um total de 225."
   ]
  },
  {
   "cell_type": "markdown",
   "metadata": {
    "pycharm": {}
   },
   "source": [
    "O código abaixo divide a amostra em dados de treinamento e de teste."
   ]
  },
  {
   "cell_type": "code",
   "execution_count": 7,
   "metadata": {
    "pycharm": {
     "is_executing": false
    }
   },
   "outputs": [],
   "source": [
    "X_train, X_test, y_train, y_test = ms.train_test_split(Features, labels)"
   ]
  },
  {
   "cell_type": "markdown",
   "metadata": {
    "pycharm": {}
   },
   "source": [
    "A regressão logística é puramente linear, sem regularização. Por isso não precisamos escalar os features numéricos."
   ]
  },
  {
   "cell_type": "markdown",
   "metadata": {
    "pycharm": {}
   },
   "source": [
    "## Construir o modelo de regressão logística\n",
    "\n",
    "A população é bem desbalanceada, assim temos que aplicar pesos de classe ao modelo para compensar o desbalanceamento. Sckit-learn tem uma função conveniente para estimar os valores do pesos de classe, vamos a usar."
   ]
  },
  {
   "cell_type": "code",
   "execution_count": 8,
   "outputs": [
    {
     "data": {
      "text/plain": "array([ 0.52613905, 10.06423366])"
     },
     "metadata": {},
     "output_type": "execute_result",
     "execution_count": 8
    }
   ],
   "source": [
    "from sklearn.utils.class_weight import compute_class_weight\n",
    "compute_class_weight('balanced', np.unique(labels), labels)"
   ],
   "metadata": {
    "collapsed": false,
    "pycharm": {
     "name": "#%%\n",
     "is_executing": false
    }
   }
  },
  {
   "cell_type": "markdown",
   "source": [
    "O código a seguir cria o modelo de regressão logistica, onde usaremos os valores dos pesos de classes obtidos."
   ],
   "metadata": {
    "collapsed": false,
    "pycharm": {
     "name": "#%% md\n"
    }
   }
  },
  {
   "cell_type": "code",
   "execution_count": 9,
   "metadata": {
    "pycharm": {
     "is_executing": false
    }
   },
   "outputs": [
    {
     "name": "stderr",
     "text": [
      "C:\\Users\\susum\\Anaconda3\\lib\\site-packages\\sklearn\\linear_model\\logistic.py:758: ConvergenceWarning: lbfgs failed to converge. Increase the number of iterations.\n  \"of iterations.\", ConvergenceWarning)\n"
     ],
     "output_type": "stream"
    },
    {
     "data": {
      "text/plain": "LogisticRegression(C=1.0, class_weight=[0.526, 10.1], dual=False,\n          fit_intercept=True, intercept_scaling=1, max_iter=100,\n          multi_class='warn', n_jobs=None, penalty='l2', random_state=None,\n          solver='lbfgs', tol=0.0001, verbose=0, warm_start=False)"
     },
     "metadata": {},
     "output_type": "execute_result",
     "execution_count": 9
    }
   ],
   "source": [
    "logistic_mod = linear_model.LogisticRegression(\n",
    "    solver=\"lbfgs\", class_weight=[0.526, 10.1]\n",
    ")\n",
    "logistic_mod.fit(X_train, y_train)"
   ]
  },
  {
   "cell_type": "markdown",
   "metadata": {
    "pycharm": {}
   },
   "source": [
    "Vamos examinar os coeficientes da regressão logística."
   ]
  },
  {
   "cell_type": "code",
   "execution_count": 10,
   "metadata": {
    "pycharm": {
     "is_executing": false
    }
   },
   "outputs": [
    {
     "name": "stdout",
     "text": [
      "[-0.75196117]\n[[ 9.60165641e-01  1.66127412e+00  1.68489915e+00  1.56978079e+00\n   1.40789516e+00  1.06434465e+00  6.19109621e-01  2.25763578e-01\n   5.98797794e-02  8.75646624e-02 -2.77694439e-01 -4.77957835e-01\n  -5.33414887e-01 -7.00607026e-01 -5.43154412e-01 -9.05690182e-01\n  -7.03746581e-01 -5.86646218e-01 -6.71469830e-01 -5.92112052e-01\n  -7.79552859e-01 -8.00102379e-01 -5.78268762e-01 -8.75915439e-01\n  -9.03819461e-01 -5.21573309e-01 -6.79019050e-02  2.07751837e-01\n  -1.90596001e-02 -1.58308162e-01 -6.19859288e-01  4.33234163e-01\n   2.56476618e-02 -8.89475167e-02  5.04820406e-02  1.13860591e-02\n  -1.02127762e+00 -1.32286497e-01  3.80266328e-01 -4.80663179e-01\n  -1.74130163e-01 -1.82661703e-01  4.98453519e-01 -5.14222970e-01\n  -6.72394507e-01  9.86887438e-02 -1.08792873e+00 -1.44726991e+00\n  -1.01057758e+00 -6.17777484e-01 -1.87437404e-01  1.22501798e-02\n   2.52992234e-01  2.46868255e-01  4.87780468e-01  6.67243006e-01\n   8.00500276e-01  1.29388148e+00 -7.52522438e-02  5.08227181e-01\n  -4.68487190e-01 -5.53962961e-01 -3.66188324e-01 -2.23286890e-01\n  -1.53277574e-01 -2.19521858e-01 -8.99709406e-02 -1.17274364e-01\n  -3.91851389e-02  7.64789683e-02  6.79827165e-02 -1.14707024e-01\n  -5.66992105e-01 -1.52587314e-01 -6.01104443e-02 -1.10162568e-01\n   1.42956469e-01  3.11521322e-01  2.48984221e-01 -4.03084794e-01\n  -1.15867234e-01 -2.38315979e-01 -8.97785437e-02  6.66717387e-02\n  -9.52171481e-04 -2.11233025e-01 -1.10650050e-01 -1.46473387e-01\n  -1.28532904e-01 -3.91614196e-02 -8.50756904e-02 -7.95817631e-02\n   8.03755002e-01  2.74151758e-01  1.44121319e-01 -2.97943123e-02\n  -2.00610864e-01 -1.42945919e-01 -3.71574477e-01 -8.19147561e-02\n  -3.63161317e-01 -2.65291616e-01 -2.19793422e-01 -3.81874377e-01\n   1.81801335e-02  2.07415201e-01 -1.35159780e-01  6.52868572e-03\n  -7.86031376e-02 -1.98787464e-01 -1.23223661e-01  5.49107792e-01\n  -9.31356630e-01 -1.06688860e+00 -8.36140789e-01 -5.51259137e-01\n  -3.32801112e-01 -2.33474460e-01 -3.53063819e-02  9.99715883e-02\n   9.41005355e-02  2.74319268e-01  3.22113732e-01  4.86973173e-01\n   2.84606490e-01  3.38922147e-01  4.56104998e-01  4.89267757e-01\n   5.51372212e-01 -1.51507692e-01 -2.05440237e-01 -1.19284266e-01\n  -1.13243018e-01 -3.89547139e-01 -2.72406230e-01 -5.24924879e-02\n   2.63210588e-02  9.86495852e-02 -6.94508272e-01 -4.61704030e-03\n   5.65492727e-02  5.92489389e-03  4.71759314e-02 -7.88350026e-03\n  -3.70412031e-02 -8.19197175e-02 -1.64904348e-01 -2.97726445e-01\n   2.73052424e-01  1.38016805e-01 -1.79427507e-01 -5.17603125e-01\n  -3.03513811e-01 -9.10553605e-02 -1.72937669e-01 -2.20189627e-01\n  -2.59309561e-01  1.54017003e-01 -2.73280304e-01 -6.00101427e-02\n   6.51622682e-02 -1.51289311e-02 -3.06218104e-01  1.79039059e-02\n  -2.88084551e-02 -2.82163589e-01  8.56788879e-03 -3.04974965e-01\n   2.52392704e-02 -9.80624318e-02 -6.89728873e-01 -6.12614730e-03\n   1.79202968e-01 -3.90516444e-02 -1.31078646e-01 -3.98488849e-01\n   1.69333789e-01 -1.90189864e-01 -2.52203242e-01 -2.07327975e-01\n  -3.67410327e-01 -7.62988843e-02  3.13765214e-01 -3.10655323e-01\n  -2.78819890e-01  4.05706363e-01 -9.83177730e-02 -1.68452108e-01\n  -2.48054759e-01 -4.80356937e-01 -3.25931420e-01 -2.63543793e-01\n  -2.13932419e-01 -3.75542795e-01 -1.71047325e-01 -2.51481587e-01\n  -7.50843693e-02 -1.14671049e-01  2.28091155e-02 -3.17022564e-01\n  -2.72452650e-01 -7.77516223e-01 -1.88711120e-01  5.23961080e-02\n   6.89353414e-02  2.55420680e-01 -2.77478228e-01 -3.11996986e-01\n   3.35649987e-01 -3.12407266e-01 -3.66005906e-01 -2.46712030e-01\n  -7.55773652e-01 -3.18852007e-01 -2.95701777e-01  3.11256856e-01\n   4.69595367e-01  8.87681540e-01  2.46783125e+00  1.82317803e-01\n   1.55777095e+00 -1.84049412e+00  4.89653483e+00 -4.26596071e-01\n   1.64416336e+00]]\n"
     ],
     "output_type": "stream"
    }
   ],
   "source": [
    "print(logistic_mod.intercept_)\n",
    "print(logistic_mod.coef_)"
   ]
  },
  {
   "cell_type": "markdown",
   "metadata": {
    "pycharm": {}
   },
   "source": [
    "Vamos calcular as estimativas de probabilidade para o conjunto de teste."
   ]
  },
  {
   "cell_type": "code",
   "execution_count": 11,
   "metadata": {
    "pycharm": {
     "is_executing": false
    }
   },
   "outputs": [
    {
     "name": "stdout",
     "text": [
      "[[8.98609019e-01 1.01390981e-01]\n [9.00306239e-01 9.96937610e-02]\n [9.93013504e-01 6.98649575e-03]\n [9.97686489e-01 2.31351149e-03]\n [8.03341254e-01 1.96658746e-01]\n [9.95627378e-01 4.37262206e-03]\n [9.31717130e-01 6.82828698e-02]\n [9.99105924e-01 8.94075965e-04]\n [8.68457507e-01 1.31542493e-01]\n [6.35022557e-01 3.64977443e-01]\n [9.56788807e-01 4.32111932e-02]\n [9.84494197e-01 1.55058031e-02]\n [9.97741389e-01 2.25861055e-03]\n [9.97562307e-01 2.43769338e-03]\n [9.96956881e-01 3.04311933e-03]]\n"
     ],
     "output_type": "stream"
    }
   ],
   "source": [
    "probabilities = logistic_mod.predict_proba(X_test)\n",
    "print(probabilities[:15,:])"
   ]
  },
  {
   "cell_type": "markdown",
   "metadata": {
    "pycharm": {}
   },
   "source": [
    "Observamos que nos primeiras 20 observações as probabilidades de score $0$ são bastante altas, como era esperado."
   ]
  },
  {
   "cell_type": "markdown",
   "metadata": {
    "pycharm": {}
   },
   "source": [
    "## Score and evaluate the classification model\n",
    "\n",
    "Uma escolha simples para definir o limiar é $0.5$. O código da célula abaixo aplica este limiar inicial para os dados de teste."
   ]
  },
  {
   "cell_type": "code",
   "execution_count": 12,
   "metadata": {
    "pycharm": {
     "is_executing": false
    }
   },
   "outputs": [
    {
     "name": "stdout",
     "text": [
      "[0 0 0 0 0 0 0 0 0 0 0 0 0 0 0 0 0 0 0 0 0 0 0 0 0 0 0 0 0 0 0 0 0 0 0 0 0\n 0 0 0 0 0 0 0 0 0 0 0 0 0 0 0 0 0 0 0 0 0 0 0 0 0 0 0 0 0 0 0 0 0 0 0 0 0\n 0 0 0 0 0 0 0 0 0 0 0 0 0 0 0 0 0 0 0 0 0 0 0 0 0 0]\n[0 0 0 0 0 0 0 0 0 1 0 0 0 0 0 0 0 0 0 0 0 0 0 1 0 1 1 0 0 0 0 0 0 0 0 0 0\n 0 0 0 0 0 0 0 0 0 0 0 0 0 0 0 0 0 0 0 0 0 0 1 0 0 1 0 0 0 0 0 0 0 0 0 0 0\n 0 0 0 0 0 0 0 0 0 0 0 0 0 1 0 0 0 0 0 0 0 0 0 0 0 0]\n"
     ],
     "output_type": "stream"
    }
   ],
   "source": [
    "def score_model(probs, threshold):\n",
    "    return np.array([1 if x > threshold else 0 for x in probs[:,1]])\n",
    "scores = score_model(probabilities, 0.5)\n",
    "print(np.array(scores[:100]))\n",
    "print(y_test[:100])"
   ]
  },
  {
   "cell_type": "markdown",
   "metadata": {
    "pycharm": {}
   },
   "source": [
    "Ao que parece o modelo está privilegiando o score $0$."
   ]
  },
  {
   "cell_type": "markdown",
   "metadata": {
    "pycharm": {}
   },
   "source": [
    "O código da célula abaixo implementa uma função que computa e mostra as métricas de desempenho."
   ]
  },
  {
   "cell_type": "code",
   "execution_count": 13,
   "metadata": {
    "pycharm": {
     "is_executing": false
    }
   },
   "outputs": [
    {
     "data": {
      "text/plain": "<Figure size 432x288 with 1 Axes>",
      "image/png": "[encoded data removed]"
     },
     "metadata": {
      "needs_background": "light"
     },
     "output_type": "display_data"
    },
    {
     "name": "stdout",
     "text": [
      "\nAccuracy 0.95\n\n           Positive      Negative\nNum case    40699          2115\nPrecision    0.96          0.55\nRecall       1.00          0.11\nF1           0.98          0.18\n"
     ],
     "output_type": "stream"
    }
   ],
   "source": [
    "def print_metrics(labels, scores, title=\"\"):\n",
    "    precision, recall, fscore, support = sklm.precision_recall_fscore_support(\n",
    "        labels, scores\n",
    "    )\n",
    "    matrix = sklm.confusion_matrix(labels, scores)\n",
    "    sns.heatmap(matrix, annot=True, cbar=False)\n",
    "    plt.title(title)\n",
    "    plt.xlabel(\"Predicted\")\n",
    "    plt.ylabel(\"Actual\")\n",
    "    plt.show()\n",
    "    print(title)\n",
    "    print(f'Accuracy {format(sklm.accuracy_score(labels, scores), \"0.2f\")}')\n",
    "    print()\n",
    "    print(\"           Positive      Negative\")\n",
    "    print(\n",
    "        f'Num case   {format(support[0], \"6d\")}        '\n",
    "        f'{format(support[1], \"6d\")}'\n",
    "    )\n",
    "    print(\n",
    "        f'Precision  {format(precision[0], \"6.2f\")}        '\n",
    "        f'{format(precision[1], \"6.2f\")}'\n",
    "    )\n",
    "    print(\n",
    "        f'Recall     {format(recall[0], \"6.2f\")}        '\n",
    "        f'{format(recall[1], \"6.2f\")}'\n",
    "    )\n",
    "    print(\n",
    "        f'F1         {format(fscore[0], \"6.2f\")}        '\n",
    "        f'{format(fscore[1], \"6.2f\")}'\n",
    "    )\n",
    "    \n",
    "print_metrics(y_test, scores)    "
   ]
  },
  {
   "cell_type": "markdown",
   "metadata": {
    "pycharm": {}
   },
   "source": [
    "Como desconfiamos o modelo está privilegiando o score $0$. Por isso o recall do caso negativo está muito baixo.\n",
    "\n",
    "Finalmente, o código da célula abaixo computa e mostra a curva ROC e AUC.\n"
   ]
  },
  {
   "cell_type": "code",
   "execution_count": 14,
   "metadata": {
    "pycharm": {
     "is_executing": false
    }
   },
   "outputs": [
    {
     "data": {
      "text/plain": "<Figure size 432x288 with 1 Axes>",
      "image/png": "[encoded data removed]"
     },
     "metadata": {
      "needs_background": "light"
     },
     "output_type": "display_data"
    }
   ],
   "source": [
    "def plot_auc(labels, probs):\n",
    "    ## Compute the false positive rate, true positive rate\n",
    "    ## and threshold along with the AUC\n",
    "    fpr, tpr, threshold = sklm.roc_curve(labels, probs[:,1])\n",
    "    auc = sklm.auc(fpr, tpr)\n",
    "    \n",
    "    ## Plot the result\n",
    "    plt.title('Receiver Operating Characteristic')\n",
    "    plt.plot(fpr, tpr, 'orange', label = f'AUC = {format(auc, \"0.2f\")}')\n",
    "    plt.legend(loc = 'lower right')\n",
    "    plt.plot([0, 1], [0, 1],'r--')\n",
    "    plt.xlim(0, 1)\n",
    "    plt.ylim(0, 1)\n",
    "    plt.ylabel('True Positive Rate')\n",
    "    plt.xlabel('False Positive Rate')\n",
    "    plt.show()\n",
    "    \n",
    "plot_auc(y_test, probabilities)    "
   ]
  },
  {
   "cell_type": "markdown",
   "metadata": {
    "pycharm": {}
   },
   "source": [
    "Observe que a curva ROC está bem acima do modelo aletório, que indica que nosso modelo não é tão ruim quanto pensávamos talvez seja só uma questão de escolher melhor o limiar."
   ]
  },
  {
   "cell_type": "markdown",
   "metadata": {
    "pycharm": {}
   },
   "source": [
    "## Encontrar um limiar melhor\n",
    "\n",
    "O código da célula abaixo contém uma função para avaliar o módelo para um dado valor de limiar. O loop `for`itera sobre a lista de 9 valores de limiares."
   ]
  },
  {
   "cell_type": "code",
   "execution_count": 15,
   "metadata": {
    "pycharm": {
     "is_executing": false
    }
   },
   "outputs": [
    {
     "name": "stdout",
     "text": [
      "\nFor threshold = 0.45\n",
      "\nAccuracy 0.95\n\n           Positive      Negative\nNum case    40699          2115\nPrecision    0.96          0.51\nRecall       0.99          0.15\nF1           0.97          0.23\n\nFor threshold = 0.4\n",
      "\nAccuracy 0.95\n\n           Positive      Negative\nNum case    40699          2115\nPrecision    0.96          0.48\nRecall       0.99          0.20\nF1           0.97          0.28\n\nFor threshold = 0.35\n",
      "\nAccuracy 0.95\n\n           Positive      Negative\nNum case    40699          2115\nPrecision    0.96          0.45\nRecall       0.98          0.25\nF1           0.97          0.32\n",
      "\nFor threshold = 0.3\n",
      "\nAccuracy 0.94\n\n           Positive      Negative\nNum case    40699          2115\nPrecision    0.96          0.42\nRecall       0.98          0.32\nF1           0.97          0.36\n\nFor threshold = 0.25\n",
      "\nAccuracy 0.94\n\n           Positive      Negative\nNum case    40699          2115\nPrecision    0.97          0.39\nRecall       0.97          0.39\nF1           0.97          0.39\n\nFor threshold = 0.2\n",
      "\nAccuracy 0.93\n\n           Positive      Negative\nNum case    40699          2115\nPrecision    0.97          0.35\nRecall       0.96          0.46\nF1           0.96          0.40\n\nFor threshold = 0.15\n",
      "\nAccuracy 0.92\n\n           Positive      Negative\nNum case    40699          2115\nPrecision    0.98          0.31\nRecall       0.94          0.55\nF1           0.96          0.40\n\nFor threshold = 0.1\n",
      "\nAccuracy 0.89\n\n           Positive      Negative\nNum case    40699          2115\nPrecision    0.98          0.25\nRecall       0.90          0.65\nF1           0.94          0.36\n",
      "\nFor threshold = 0.05\n",
      "\nAccuracy 0.80\n\n           Positive      Negative\nNum case    40699          2115\nPrecision    0.99          0.18\nRecall       0.80          0.81\nF1           0.89          0.29\n"
     ],
     "output_type": "stream"
    },
    {
     "data": {
      "text/plain": "<Figure size 432x288 with 1 Axes>",
      "image/png": "[encoded data removed]"
     },
     "metadata": {
      "needs_background": "light"
     },
     "output_type": "display_data"
    },
    {
     "data": {
      "text/plain": "<Figure size 432x288 with 1 Axes>",
      "image/png": "[encoded data removed]"
     },
     "metadata": {
      "needs_background": "light"
     },
     "output_type": "display_data"
    },
    {
     "data": {
      "text/plain": "<Figure size 432x288 with 1 Axes>",
      "image/png": "[encoded data removed]"
     },
     "metadata": {
      "needs_background": "light"
     },
     "output_type": "display_data"
    },
    {
     "data": {
      "text/plain": "<Figure size 432x288 with 1 Axes>",
      "image/png": "[encoded data removed]"
     },
     "metadata": {
      "needs_background": "light"
     },
     "output_type": "display_data"
    },
    {
     "data": {
      "text/plain": "<Figure size 432x288 with 1 Axes>",
      "image/png": "[encoded data removed]"
     },
     "metadata": {
      "needs_background": "light"
     },
     "output_type": "display_data"
    },
    {
     "data": {
      "text/plain": "<Figure size 432x288 with 1 Axes>",
      "image/png": "[encoded data removed]"
     },
     "metadata": {
      "needs_background": "light"
     },
     "output_type": "display_data"
    },
    {
     "data": {
      "text/plain": "<Figure size 432x288 with 1 Axes>",
      "image/png": "[encoded data removed]"
     },
     "metadata": {
      "needs_background": "light"
     },
     "output_type": "display_data"
    },
    {
     "data": {
      "text/plain": "<Figure size 432x288 with 1 Axes>",
      "image/png": "[encoded data removed]"
     },
     "metadata": {
      "needs_background": "light"
     },
     "output_type": "display_data"
    },
    {
     "data": {
      "text/plain": "<Figure size 432x288 with 1 Axes>",
      "image/png": "[encoded data removed]"
     },
     "metadata": {
      "needs_background": "light"
     },
     "output_type": "display_data"
    }
   ],
   "source": [
    "def test_threshold(probs, labels, threshold):\n",
    "    scores = score_model(probs, threshold)\n",
    "    print('')\n",
    "    print(f'For threshold = {threshold}')\n",
    "    print_metrics(labels, scores)\n",
    "\n",
    "thresholds = [0.45, 0.40, 0.35, 0.3, 0.25, 0.20, 0.15, 0.10, 0.05]\n",
    "for t in thresholds:\n",
    "    test_threshold(probabilities, y_test, t)"
   ]
  },
  {
   "cell_type": "markdown",
   "metadata": {
    "pycharm": {}
   },
   "source": [
    "O recall melhorou com limiares menores. A escolha do melhor limiar vai depender da aplicação. Pela métrica F1, o melhor valor é por volta de 0.2."
   ]
  },
  {
   "cell_type": "markdown",
   "metadata": {
    "pycharm": {}
   },
   "source": [
    "## Execução do caso de produção\n",
    "Carregar os dados."
   ]
  },
  {
   "cell_type": "code",
   "execution_count": 16,
   "outputs": [
    {
     "name": "stdout",
     "text": [
      "(169814, 109)\n"
     ],
     "output_type": "stream"
    },
    {
     "data": {
      "text/plain": "   NU_INSCRICAO  NU_ANO  CO_MUNICIPIO_RESIDENCIA NO_MUNICIPIO_RESIDENCIA  \\\n0  170004256309    2017                  3129707                 Ibiraci   \n1  170006052305    2017                  3538006         Pindamonhangaba   \n2  170003721524    2017                  3137403           Lagoa Dourada   \n3  170001233897    2017                  1502905                  Curuçá   \n4  170000947612    2017                  4317509            Santo Ângelo   \n\n   CO_UF_RESIDENCIA SG_UF_RESIDENCIA  NU_IDADE TP_SEXO  TP_ESTADO_CIVIL  \\\n0                31               MG      20.0       F              0.0   \n1                35               SP      17.0       F              0.0   \n2                31               MG      18.0       F              0.0   \n3                15               PA      21.0       M              0.0   \n4                43               RS      26.0       M              0.0   \n\n   TP_COR_RACA  ...  Q018  Q019 Q020  Q021 Q022  Q023  Q024  Q025  Q026  Q027  \n0            1  ...     A     B    B     B    D     A     B     B     A     A  \n1            1  ...     A     B    A     A    D     A     B     B     B     A  \n2            3  ...     A     B    A     A    B     A     B     B     B     A  \n3            3  ...     A     B    B     A    D     A     A     A     A     A  \n4            1  ...     A     B    A     A    C     A     A     A     A     A  \n\n[5 rows x 109 columns]",
      "text/html": "<div>\n<style scoped>\n    .dataframe tbody tr th:only-of-type {\n        vertical-align: middle;\n    }\n\n    .dataframe tbody tr th {\n        vertical-align: top;\n    }\n\n    .dataframe thead th {\n        text-align: right;\n    }\n</style>\n<table border=\"1\" class=\"dataframe\">\n  <thead>\n    <tr style=\"text-align: right;\">\n      <th></th>\n      <th>NU_INSCRICAO</th>\n      <th>NU_ANO</th>\n      <th>CO_MUNICIPIO_RESIDENCIA</th>\n      <th>NO_MUNICIPIO_RESIDENCIA</th>\n      <th>CO_UF_RESIDENCIA</th>\n      <th>SG_UF_RESIDENCIA</th>\n      <th>NU_IDADE</th>\n      <th>TP_SEXO</th>\n      <th>TP_ESTADO_CIVIL</th>\n      <th>TP_COR_RACA</th>\n      <th>...</th>\n      <th>Q018</th>\n      <th>Q019</th>\n      <th>Q020</th>\n      <th>Q021</th>\n      <th>Q022</th>\n      <th>Q023</th>\n      <th>Q024</th>\n      <th>Q025</th>\n      <th>Q026</th>\n      <th>Q027</th>\n    </tr>\n  </thead>\n  <tbody>\n    <tr>\n      <th>0</th>\n      <td>170004256309</td>\n      <td>2017</td>\n      <td>3129707</td>\n      <td>Ibiraci</td>\n      <td>31</td>\n      <td>MG</td>\n      <td>20.0</td>\n      <td>F</td>\n      <td>0.0</td>\n      <td>1</td>\n      <td>...</td>\n      <td>A</td>\n      <td>B</td>\n      <td>B</td>\n      <td>B</td>\n      <td>D</td>\n      <td>A</td>\n      <td>B</td>\n      <td>B</td>\n      <td>A</td>\n      <td>A</td>\n    </tr>\n    <tr>\n      <th>1</th>\n      <td>170006052305</td>\n      <td>2017</td>\n      <td>3538006</td>\n      <td>Pindamonhangaba</td>\n      <td>35</td>\n      <td>SP</td>\n      <td>17.0</td>\n      <td>F</td>\n      <td>0.0</td>\n      <td>1</td>\n      <td>...</td>\n      <td>A</td>\n      <td>B</td>\n      <td>A</td>\n      <td>A</td>\n      <td>D</td>\n      <td>A</td>\n      <td>B</td>\n      <td>B</td>\n      <td>B</td>\n      <td>A</td>\n    </tr>\n    <tr>\n      <th>2</th>\n      <td>170003721524</td>\n      <td>2017</td>\n      <td>3137403</td>\n      <td>Lagoa Dourada</td>\n      <td>31</td>\n      <td>MG</td>\n      <td>18.0</td>\n      <td>F</td>\n      <td>0.0</td>\n      <td>3</td>\n      <td>...</td>\n      <td>A</td>\n      <td>B</td>\n      <td>A</td>\n      <td>A</td>\n      <td>B</td>\n      <td>A</td>\n      <td>B</td>\n      <td>B</td>\n      <td>B</td>\n      <td>A</td>\n    </tr>\n    <tr>\n      <th>3</th>\n      <td>170001233897</td>\n      <td>2017</td>\n      <td>1502905</td>\n      <td>Curuçá</td>\n      <td>15</td>\n      <td>PA</td>\n      <td>21.0</td>\n      <td>M</td>\n      <td>0.0</td>\n      <td>3</td>\n      <td>...</td>\n      <td>A</td>\n      <td>B</td>\n      <td>B</td>\n      <td>A</td>\n      <td>D</td>\n      <td>A</td>\n      <td>A</td>\n      <td>A</td>\n      <td>A</td>\n      <td>A</td>\n    </tr>\n    <tr>\n      <th>4</th>\n      <td>170000947612</td>\n      <td>2017</td>\n      <td>4317509</td>\n      <td>Santo Ângelo</td>\n      <td>43</td>\n      <td>RS</td>\n      <td>26.0</td>\n      <td>M</td>\n      <td>0.0</td>\n      <td>1</td>\n      <td>...</td>\n      <td>A</td>\n      <td>B</td>\n      <td>A</td>\n      <td>A</td>\n      <td>C</td>\n      <td>A</td>\n      <td>A</td>\n      <td>A</td>\n      <td>A</td>\n      <td>A</td>\n    </tr>\n  </tbody>\n</table>\n<p>5 rows × 109 columns</p>\n</div>"
     },
     "metadata": {},
     "output_type": "execute_result",
     "execution_count": 16
    }
   ],
   "source": [
    "producao = pd.read_csv('../data/production_projeto_ENEM_features.csv')\n",
    "print(producao.shape)\n",
    "producao.head()"
   ],
   "metadata": {
    "collapsed": false,
    "pycharm": {
     "name": "#%%\n",
     "is_executing": false
    }
   }
  },
  {
   "cell_type": "markdown",
   "metadata": {
    "pycharm": {
     "name": "#%% md\n"
    }
   },
   "source": [
    "Resolver os valores ausentes."
   ]
  },
  {
   "cell_type": "code",
   "execution_count": 17,
   "outputs": [
    {
     "data": {
      "text/plain": "(169814, 97)"
     },
     "metadata": {},
     "output_type": "execute_result",
     "execution_count": 17
    }
   ],
   "source": [
    "producao.drop(\n",
    "    [\n",
    "        \"CO_MUNICIPIO_NASCIMENTO\",\n",
    "        \"NO_MUNICIPIO_NASCIMENTO\",\n",
    "        \"CO_UF_NASCIMENTO\",\n",
    "        \"SG_UF_NASCIMENTO\",\n",
    "        \"TP_ENSINO\",\n",
    "        \"CO_MUNICIPIO_ESC\",\n",
    "        \"NO_MUNICIPIO_ESC\",\n",
    "        \"CO_UF_ESC\",\n",
    "        \"SG_UF_ESC\",\n",
    "        \"TP_DEPENDENCIA_ADM_ESC\",\n",
    "        \"TP_LOCALIZACAO_ESC\",\n",
    "        \"TP_SIT_FUNC_ESC\",\n",
    "    ],\n",
    "    axis=1,\n",
    "    inplace=True,\n",
    ")\n",
    "producao.loc[producao[\"CO_ESCOLA\"].isna(), \"CO_ESCOLA\"] = 0\n",
    "producao.loc[producao[\"NU_IDADE\"].isna(), \"NU_IDADE\"] = 17\n",
    "producao.loc[producao[\"TP_ESTADO_CIVIL\"].isna(), \"TP_ESTADO_CIVIL\"] = 0\n",
    "producao.shape"
   ],
   "metadata": {
    "collapsed": false,
    "pycharm": {
     "name": "#%%\n",
     "is_executing": false
    }
   }
  },
  {
   "cell_type": "markdown",
   "source": [
    "Mudar tipo de dados."
   ],
   "metadata": {
    "collapsed": false,
    "pycharm": {
     "name": "#%% md\n"
    }
   }
  },
  {
   "cell_type": "code",
   "execution_count": 18,
   "outputs": [
    {
     "data": {
      "text/plain": "NU_IDADE            int8\nTP_ESTADO_CIVIL     int8\nCO_ESCOLA          int32\ndtype: object"
     },
     "metadata": {},
     "output_type": "execute_result",
     "execution_count": 18
    }
   ],
   "source": [
    "cols = [\"NU_IDADE\", \"TP_ESTADO_CIVIL\", \"CO_ESCOLA\"]\n",
    "for col in cols:\n",
    "    producao[col] = pd.to_numeric(producao[col], downcast=\"integer\")\n",
    "producao[cols].dtypes"
   ],
   "metadata": {
    "collapsed": false,
    "pycharm": {
     "name": "#%%\n",
     "is_executing": false
    }
   }
  },
  {
   "cell_type": "markdown",
   "source": [
    "Agrupar idade."
   ],
   "metadata": {
    "collapsed": false,
    "pycharm": {
     "name": "#%% md\n"
    }
   }
  },
  {
   "cell_type": "code",
   "execution_count": 20,
   "outputs": [
    {
     "data": {
      "text/plain": "    NU_INSCRICAO  NU_ANO  CO_MUNICIPIO_RESIDENCIA NO_MUNICIPIO_RESIDENCIA  \\\n0   170004256309    2017                  3129707                 Ibiraci   \n1   170006052305    2017                  3538006         Pindamonhangaba   \n2   170003721524    2017                  3137403           Lagoa Dourada   \n3   170001233897    2017                  1502905                  Curuçá   \n4   170000947612    2017                  4317509            Santo Ângelo   \n5   170002110137    2017                  3550308               São Paulo   \n6   170003350533    2017                  3549805   São José do Rio Preto   \n7   170001868581    2017                  3106200          Belo Horizonte   \n8   170000827807    2017                  4314100             Passo Fundo   \n9   170002710405    2017                  5003702                Dourados   \n10  170002352748    2017                  2927408                Salvador   \n11  170003538821    2017                  4106902                Curitiba   \n12  170006328997    2017                  3549805   São José do Rio Preto   \n13  170004487531    2017                  3530102            Mirandópolis   \n14  170006151133    2017                  1501402                   Belém   \n15  170004959227    2017                  3509502                Campinas   \n16  170001230101    2017                  1501402                   Belém   \n17  170003881539    2017                  3118601                Contagem   \n18  170002784343    2017                  5300108                Brasília   \n19  170003290557    2017                  2306801             Jaguaribara   \n\n    CO_UF_RESIDENCIA SG_UF_RESIDENCIA  NU_IDADE TP_SEXO  TP_ESTADO_CIVIL  \\\n0                 31               MG        20       F                0   \n1                 35               SP        17       F                0   \n2                 31               MG        18       F                0   \n3                 15               PA        21       M                0   \n4                 43               RS        26       M                0   \n5                 35               SP        18       M                0   \n6                 35               SP        21       M                0   \n7                 31               MG        19       M                0   \n8                 43               RS        17       M                0   \n9                 50               MS        22       F                0   \n10                29               BA        18       M                0   \n11                41               PR        26       F                0   \n12                35               SP        15       F                0   \n13                35               SP        15       M                0   \n14                15               PA        17       M                0   \n15                35               SP        22       M                0   \n16                15               PA        18       M                0   \n17                31               MG        23       F                0   \n18                53               DF        17       F                0   \n19                23               CE        15       F                0   \n\n    TP_COR_RACA  ...  Q019  Q020  Q021  Q022  Q023  Q024  Q025  Q026  Q027  \\\n0             1  ...     B     B     B     D     A     B     B     A     A   \n1             1  ...     B     A     A     D     A     B     B     B     A   \n2             3  ...     B     A     A     B     A     B     B     B     A   \n3             3  ...     B     B     A     D     A     A     A     A     A   \n4             1  ...     B     A     A     C     A     A     A     A     A   \n5             3  ...     B     B     A     D     A     B     B     B     A   \n6             1  ...     B     A     B     E     B     B     B     A     D   \n7             1  ...     D     B     B     E     B     C     B     A     D   \n8             1  ...     E     B     B     D     B     D     B     B     A   \n9             3  ...     B     A     A     C     A     B     B     A     A   \n10            3  ...     B     A     A     E     A     D     B     B     D   \n11            1  ...     C     B     A     D     B     C     B     A     A   \n12            1  ...     C     A     B     C     B     B     B     C     A   \n13            4  ...     C     B     B     E     B     D     B     C     D   \n14            3  ...     C     B     B     E     B     D     B     C     D   \n15            1  ...     B     A     B     C     A     B     B     A     A   \n16            3  ...     B     A     A     D     A     A     A     C     A   \n17            3  ...     B     A     A     C     B     B     B     A     A   \n18            3  ...     B     B     B     E     B     B     B     B     C   \n19            1  ...     B     B     A     C     A     A     A     D     A   \n\n    TP_FAIXA_ETARIA  \n0           20 anos  \n1           17 anos  \n2           18 anos  \n3           21 anos  \n4           26 anos  \n5           18 anos  \n6           21 anos  \n7           19 anos  \n8           17 anos  \n9           22 anos  \n10          18 anos  \n11          26 anos  \n12          15 anos  \n13          15 anos  \n14          17 anos  \n15          22 anos  \n16          18 anos  \n17          23 anos  \n18          17 anos  \n19          15 anos  \n\n[20 rows x 98 columns]",
      "text/html": "<div>\n<style scoped>\n    .dataframe tbody tr th:only-of-type {\n        vertical-align: middle;\n    }\n\n    .dataframe tbody tr th {\n        vertical-align: top;\n    }\n\n    .dataframe thead th {\n        text-align: right;\n    }\n</style>\n<table border=\"1\" class=\"dataframe\">\n  <thead>\n    <tr style=\"text-align: right;\">\n      <th></th>\n      <th>NU_INSCRICAO</th>\n      <th>NU_ANO</th>\n      <th>CO_MUNICIPIO_RESIDENCIA</th>\n      <th>NO_MUNICIPIO_RESIDENCIA</th>\n      <th>CO_UF_RESIDENCIA</th>\n      <th>SG_UF_RESIDENCIA</th>\n      <th>NU_IDADE</th>\n      <th>TP_SEXO</th>\n      <th>TP_ESTADO_CIVIL</th>\n      <th>TP_COR_RACA</th>\n      <th>...</th>\n      <th>Q019</th>\n      <th>Q020</th>\n      <th>Q021</th>\n      <th>Q022</th>\n      <th>Q023</th>\n      <th>Q024</th>\n      <th>Q025</th>\n      <th>Q026</th>\n      <th>Q027</th>\n      <th>TP_FAIXA_ETARIA</th>\n    </tr>\n  </thead>\n  <tbody>\n    <tr>\n      <th>0</th>\n      <td>170004256309</td>\n      <td>2017</td>\n      <td>3129707</td>\n      <td>Ibiraci</td>\n      <td>31</td>\n      <td>MG</td>\n      <td>20</td>\n      <td>F</td>\n      <td>0</td>\n      <td>1</td>\n      <td>...</td>\n      <td>B</td>\n      <td>B</td>\n      <td>B</td>\n      <td>D</td>\n      <td>A</td>\n      <td>B</td>\n      <td>B</td>\n      <td>A</td>\n      <td>A</td>\n      <td>20 anos</td>\n    </tr>\n    <tr>\n      <th>1</th>\n      <td>170006052305</td>\n      <td>2017</td>\n      <td>3538006</td>\n      <td>Pindamonhangaba</td>\n      <td>35</td>\n      <td>SP</td>\n      <td>17</td>\n      <td>F</td>\n      <td>0</td>\n      <td>1</td>\n      <td>...</td>\n      <td>B</td>\n      <td>A</td>\n      <td>A</td>\n      <td>D</td>\n      <td>A</td>\n      <td>B</td>\n      <td>B</td>\n      <td>B</td>\n      <td>A</td>\n      <td>17 anos</td>\n    </tr>\n    <tr>\n      <th>2</th>\n      <td>170003721524</td>\n      <td>2017</td>\n      <td>3137403</td>\n      <td>Lagoa Dourada</td>\n      <td>31</td>\n      <td>MG</td>\n      <td>18</td>\n      <td>F</td>\n      <td>0</td>\n      <td>3</td>\n      <td>...</td>\n      <td>B</td>\n      <td>A</td>\n      <td>A</td>\n      <td>B</td>\n      <td>A</td>\n      <td>B</td>\n      <td>B</td>\n      <td>B</td>\n      <td>A</td>\n      <td>18 anos</td>\n    </tr>\n    <tr>\n      <th>3</th>\n      <td>170001233897</td>\n      <td>2017</td>\n      <td>1502905</td>\n      <td>Curuçá</td>\n      <td>15</td>\n      <td>PA</td>\n      <td>21</td>\n      <td>M</td>\n      <td>0</td>\n      <td>3</td>\n      <td>...</td>\n      <td>B</td>\n      <td>B</td>\n      <td>A</td>\n      <td>D</td>\n      <td>A</td>\n      <td>A</td>\n      <td>A</td>\n      <td>A</td>\n      <td>A</td>\n      <td>21 anos</td>\n    </tr>\n    <tr>\n      <th>4</th>\n      <td>170000947612</td>\n      <td>2017</td>\n      <td>4317509</td>\n      <td>Santo Ângelo</td>\n      <td>43</td>\n      <td>RS</td>\n      <td>26</td>\n      <td>M</td>\n      <td>0</td>\n      <td>1</td>\n      <td>...</td>\n      <td>B</td>\n      <td>A</td>\n      <td>A</td>\n      <td>C</td>\n      <td>A</td>\n      <td>A</td>\n      <td>A</td>\n      <td>A</td>\n      <td>A</td>\n      <td>26 anos</td>\n    </tr>\n    <tr>\n      <th>5</th>\n      <td>170002110137</td>\n      <td>2017</td>\n      <td>3550308</td>\n      <td>São Paulo</td>\n      <td>35</td>\n      <td>SP</td>\n      <td>18</td>\n      <td>M</td>\n      <td>0</td>\n      <td>3</td>\n      <td>...</td>\n      <td>B</td>\n      <td>B</td>\n      <td>A</td>\n      <td>D</td>\n      <td>A</td>\n      <td>B</td>\n      <td>B</td>\n      <td>B</td>\n      <td>A</td>\n      <td>18 anos</td>\n    </tr>\n    <tr>\n      <th>6</th>\n      <td>170003350533</td>\n      <td>2017</td>\n      <td>3549805</td>\n      <td>São José do Rio Preto</td>\n      <td>35</td>\n      <td>SP</td>\n      <td>21</td>\n      <td>M</td>\n      <td>0</td>\n      <td>1</td>\n      <td>...</td>\n      <td>B</td>\n      <td>A</td>\n      <td>B</td>\n      <td>E</td>\n      <td>B</td>\n      <td>B</td>\n      <td>B</td>\n      <td>A</td>\n      <td>D</td>\n      <td>21 anos</td>\n    </tr>\n    <tr>\n      <th>7</th>\n      <td>170001868581</td>\n      <td>2017</td>\n      <td>3106200</td>\n      <td>Belo Horizonte</td>\n      <td>31</td>\n      <td>MG</td>\n      <td>19</td>\n      <td>M</td>\n      <td>0</td>\n      <td>1</td>\n      <td>...</td>\n      <td>D</td>\n      <td>B</td>\n      <td>B</td>\n      <td>E</td>\n      <td>B</td>\n      <td>C</td>\n      <td>B</td>\n      <td>A</td>\n      <td>D</td>\n      <td>19 anos</td>\n    </tr>\n    <tr>\n      <th>8</th>\n      <td>170000827807</td>\n      <td>2017</td>\n      <td>4314100</td>\n      <td>Passo Fundo</td>\n      <td>43</td>\n      <td>RS</td>\n      <td>17</td>\n      <td>M</td>\n      <td>0</td>\n      <td>1</td>\n      <td>...</td>\n      <td>E</td>\n      <td>B</td>\n      <td>B</td>\n      <td>D</td>\n      <td>B</td>\n      <td>D</td>\n      <td>B</td>\n      <td>B</td>\n      <td>A</td>\n      <td>17 anos</td>\n    </tr>\n    <tr>\n      <th>9</th>\n      <td>170002710405</td>\n      <td>2017</td>\n      <td>5003702</td>\n      <td>Dourados</td>\n      <td>50</td>\n      <td>MS</td>\n      <td>22</td>\n      <td>F</td>\n      <td>0</td>\n      <td>3</td>\n      <td>...</td>\n      <td>B</td>\n      <td>A</td>\n      <td>A</td>\n      <td>C</td>\n      <td>A</td>\n      <td>B</td>\n      <td>B</td>\n      <td>A</td>\n      <td>A</td>\n      <td>22 anos</td>\n    </tr>\n    <tr>\n      <th>10</th>\n      <td>170002352748</td>\n      <td>2017</td>\n      <td>2927408</td>\n      <td>Salvador</td>\n      <td>29</td>\n      <td>BA</td>\n      <td>18</td>\n      <td>M</td>\n      <td>0</td>\n      <td>3</td>\n      <td>...</td>\n      <td>B</td>\n      <td>A</td>\n      <td>A</td>\n      <td>E</td>\n      <td>A</td>\n      <td>D</td>\n      <td>B</td>\n      <td>B</td>\n      <td>D</td>\n      <td>18 anos</td>\n    </tr>\n    <tr>\n      <th>11</th>\n      <td>170003538821</td>\n      <td>2017</td>\n      <td>4106902</td>\n      <td>Curitiba</td>\n      <td>41</td>\n      <td>PR</td>\n      <td>26</td>\n      <td>F</td>\n      <td>0</td>\n      <td>1</td>\n      <td>...</td>\n      <td>C</td>\n      <td>B</td>\n      <td>A</td>\n      <td>D</td>\n      <td>B</td>\n      <td>C</td>\n      <td>B</td>\n      <td>A</td>\n      <td>A</td>\n      <td>26 anos</td>\n    </tr>\n    <tr>\n      <th>12</th>\n      <td>170006328997</td>\n      <td>2017</td>\n      <td>3549805</td>\n      <td>São José do Rio Preto</td>\n      <td>35</td>\n      <td>SP</td>\n      <td>15</td>\n      <td>F</td>\n      <td>0</td>\n      <td>1</td>\n      <td>...</td>\n      <td>C</td>\n      <td>A</td>\n      <td>B</td>\n      <td>C</td>\n      <td>B</td>\n      <td>B</td>\n      <td>B</td>\n      <td>C</td>\n      <td>A</td>\n      <td>15 anos</td>\n    </tr>\n    <tr>\n      <th>13</th>\n      <td>170004487531</td>\n      <td>2017</td>\n      <td>3530102</td>\n      <td>Mirandópolis</td>\n      <td>35</td>\n      <td>SP</td>\n      <td>15</td>\n      <td>M</td>\n      <td>0</td>\n      <td>4</td>\n      <td>...</td>\n      <td>C</td>\n      <td>B</td>\n      <td>B</td>\n      <td>E</td>\n      <td>B</td>\n      <td>D</td>\n      <td>B</td>\n      <td>C</td>\n      <td>D</td>\n      <td>15 anos</td>\n    </tr>\n    <tr>\n      <th>14</th>\n      <td>170006151133</td>\n      <td>2017</td>\n      <td>1501402</td>\n      <td>Belém</td>\n      <td>15</td>\n      <td>PA</td>\n      <td>17</td>\n      <td>M</td>\n      <td>0</td>\n      <td>3</td>\n      <td>...</td>\n      <td>C</td>\n      <td>B</td>\n      <td>B</td>\n      <td>E</td>\n      <td>B</td>\n      <td>D</td>\n      <td>B</td>\n      <td>C</td>\n      <td>D</td>\n      <td>17 anos</td>\n    </tr>\n    <tr>\n      <th>15</th>\n      <td>170004959227</td>\n      <td>2017</td>\n      <td>3509502</td>\n      <td>Campinas</td>\n      <td>35</td>\n      <td>SP</td>\n      <td>22</td>\n      <td>M</td>\n      <td>0</td>\n      <td>1</td>\n      <td>...</td>\n      <td>B</td>\n      <td>A</td>\n      <td>B</td>\n      <td>C</td>\n      <td>A</td>\n      <td>B</td>\n      <td>B</td>\n      <td>A</td>\n      <td>A</td>\n      <td>22 anos</td>\n    </tr>\n    <tr>\n      <th>16</th>\n      <td>170001230101</td>\n      <td>2017</td>\n      <td>1501402</td>\n      <td>Belém</td>\n      <td>15</td>\n      <td>PA</td>\n      <td>18</td>\n      <td>M</td>\n      <td>0</td>\n      <td>3</td>\n      <td>...</td>\n      <td>B</td>\n      <td>A</td>\n      <td>A</td>\n      <td>D</td>\n      <td>A</td>\n      <td>A</td>\n      <td>A</td>\n      <td>C</td>\n      <td>A</td>\n      <td>18 anos</td>\n    </tr>\n    <tr>\n      <th>17</th>\n      <td>170003881539</td>\n      <td>2017</td>\n      <td>3118601</td>\n      <td>Contagem</td>\n      <td>31</td>\n      <td>MG</td>\n      <td>23</td>\n      <td>F</td>\n      <td>0</td>\n      <td>3</td>\n      <td>...</td>\n      <td>B</td>\n      <td>A</td>\n      <td>A</td>\n      <td>C</td>\n      <td>B</td>\n      <td>B</td>\n      <td>B</td>\n      <td>A</td>\n      <td>A</td>\n      <td>23 anos</td>\n    </tr>\n    <tr>\n      <th>18</th>\n      <td>170002784343</td>\n      <td>2017</td>\n      <td>5300108</td>\n      <td>Brasília</td>\n      <td>53</td>\n      <td>DF</td>\n      <td>17</td>\n      <td>F</td>\n      <td>0</td>\n      <td>3</td>\n      <td>...</td>\n      <td>B</td>\n      <td>B</td>\n      <td>B</td>\n      <td>E</td>\n      <td>B</td>\n      <td>B</td>\n      <td>B</td>\n      <td>B</td>\n      <td>C</td>\n      <td>17 anos</td>\n    </tr>\n    <tr>\n      <th>19</th>\n      <td>170003290557</td>\n      <td>2017</td>\n      <td>2306801</td>\n      <td>Jaguaribara</td>\n      <td>23</td>\n      <td>CE</td>\n      <td>15</td>\n      <td>F</td>\n      <td>0</td>\n      <td>1</td>\n      <td>...</td>\n      <td>B</td>\n      <td>B</td>\n      <td>A</td>\n      <td>C</td>\n      <td>A</td>\n      <td>A</td>\n      <td>A</td>\n      <td>D</td>\n      <td>A</td>\n      <td>15 anos</td>\n    </tr>\n  </tbody>\n</table>\n<p>20 rows × 98 columns</p>\n</div>"
     },
     "metadata": {},
     "output_type": "execute_result",
     "execution_count": 20
    }
   ],
   "source": [
    "criteria = [\n",
    "    producao[\"NU_IDADE\"] < 15,\n",
    "    producao[\"NU_IDADE\"] == 15,\n",
    "    producao[\"NU_IDADE\"] == 16,\n",
    "    producao[\"NU_IDADE\"] == 17,\n",
    "    producao[\"NU_IDADE\"] == 18,\n",
    "    producao[\"NU_IDADE\"] == 19,\n",
    "    producao[\"NU_IDADE\"] == 20,\n",
    "    producao[\"NU_IDADE\"] == 21,\n",
    "    producao[\"NU_IDADE\"] == 22,\n",
    "    producao[\"NU_IDADE\"] == 23,\n",
    "    producao[\"NU_IDADE\"] == 24,\n",
    "    producao[\"NU_IDADE\"] == 25,\n",
    "    producao[\"NU_IDADE\"] == 26,\n",
    "    producao[\"NU_IDADE\"] == 27,\n",
    "    producao[\"NU_IDADE\"] == 28,\n",
    "    producao[\"NU_IDADE\"] == 29,\n",
    "    producao[\"NU_IDADE\"] == 30,\n",
    "    producao[\"NU_IDADE\"].between(31,32),\n",
    "    producao[\"NU_IDADE\"].between(33,34),\n",
    "    producao[\"NU_IDADE\"].between(35,36),\n",
    "    producao[\"NU_IDADE\"].between(37,38),\n",
    "    producao[\"NU_IDADE\"].between(39,41),\n",
    "    producao[\"NU_IDADE\"].between(42,45),\n",
    "    producao[\"NU_IDADE\"].between(46,50),\n",
    "    producao[\"NU_IDADE\"] > 50,\n",
    "]\n",
    "values = [\n",
    "    \"< 15 anos\",\n",
    "    \"15 anos\",\n",
    "    \"16 anos\",\n",
    "    \"17 anos\",\n",
    "    \"18 anos\",\n",
    "    \"19 anos\",\n",
    "    \"20 anos\",\n",
    "    \"21 anos\",\n",
    "    \"22 anos\",\n",
    "    \"23 anos\",\n",
    "    \"24 anos\",\n",
    "    \"25 anos\",\n",
    "    \"26 anos\",\n",
    "    \"27 anos\",\n",
    "    \"28 anos\",\n",
    "    \"29 anos\",\n",
    "    \"30 anos\",\n",
    "    \"31--32 anos\",\n",
    "    \"33--34 anos\",\n",
    "    \"35--36 anos\",\n",
    "    \"37--38 anos\",\n",
    "    \"39--41 anos\",\n",
    "    \"42--45 anos\",\n",
    "    \"46--50 anos\",\n",
    "    \">50 anos\",\n",
    "]\n",
    "producao[\"TP_FAIXA_ETARIA\"] = np.select(criteria, values)\n",
    "producao.head(20)"
   ],
   "metadata": {
    "collapsed": false,
    "pycharm": {
     "name": "#%%\n",
     "is_executing": false
    }
   }
  },
  {
   "cell_type": "markdown",
   "source": [
    "Carregar tabela de municípios e escolas."
   ],
   "metadata": {
    "collapsed": false,
    "pycharm": {
     "name": "#%% md\n"
    }
   }
  },
  {
   "cell_type": "code",
   "execution_count": 21,
   "outputs": [
    {
     "data": {
      "text/plain": "    CO_ESCOLA  CO_MUNICIPIO  TP_DEPENDENCIA_ADM  TP_LOCALIZACAO  TP_SIT_FUNC  \\\n0           0             0                   0               0            0   \n1    13079220       1301902                   4               1            1   \n2    29422418       2927408                   2               1            1   \n3    35001259       3550308                   2               1            1   \n4    35925950       3545803                   2               1            1   \n5    29428408       2914604                   4               1            1   \n6    35029087       3557105                   2               2            1   \n7    41024397       4115200                   4               1            1   \n8    22015787       2207702                   2               1            1   \n9    29015227       2928109                   2               1            1   \n10   29093520       2910800                   2               1            1   \n11   35136136       3551603                   4               1            1   \n12   35406296       3552502                   2               1            1   \n13   35980067       3506003                   2               1            1   \n14   41127722       4106902                   4               1            1   \n15   22129570       2210607                   1               1            1   \n16   53012127       5300108                   2               1            1   \n17   35007833       3529401                   2               1            1   \n18   33132879       3304557                   2               1            1   \n19   43166440       4322806                   2               1            1   \n\n    NU_COMPARECIMENTO_CN  PC_APROVACAO_CN  NU_COMPARECIMENTO_CH  \\\n0                3049502            0.034               3242965   \n1                     26            0.077                    26   \n2                      7            0.000                     7   \n3                     50            0.000                    54   \n4                    100            0.030                   102   \n5                     94            0.096                    94   \n6                     88            0.000                    91   \n7                    106            0.208                   106   \n8                     15            0.000                    17   \n9                    213            0.000                   223   \n10                    54            0.000                    59   \n11                    21            0.190                    22   \n12                   111            0.090                   111   \n13                    96            0.000                   105   \n14                   299            0.308                   305   \n15                    77            0.013                    77   \n16                    56            0.000                    68   \n17                    70            0.000                    77   \n18                   148            0.000                   158   \n19                    82            0.000                    95   \n\n    PC_APROVACAO_CH  NU_COMPARECIMENTO_LC  PC_APROVACAO_LC  \\\n0             0.050               3242965            0.008   \n1             0.154                    26            0.000   \n2             0.000                     7            0.000   \n3             0.000                    54            0.000   \n4             0.059                   102            0.010   \n5             0.128                    94            0.000   \n6             0.044                    91            0.000   \n7             0.104                   106            0.019   \n8             0.000                    17            0.000   \n9             0.004                   223            0.000   \n10            0.000                    59            0.000   \n11            0.273                    22            0.136   \n12            0.126                   111            0.009   \n13            0.010                   105            0.000   \n14            0.344                   305            0.062   \n15            0.065                    77            0.000   \n16            0.000                    68            0.000   \n17            0.000                    77            0.000   \n18            0.000                   158            0.000   \n19            0.011                    95            0.000   \n\n    NU_COMPARECIMENTO_MT  PC_APROVACAO_MT  \n0                3049502            0.121  \n1                     26            0.308  \n2                      7            0.000  \n3                     50            0.020  \n4                    100            0.130  \n5                     94            0.340  \n6                     88            0.068  \n7                    106            0.377  \n8                     15            0.000  \n9                    213            0.023  \n10                    54            0.000  \n11                    21            0.333  \n12                   111            0.405  \n13                    96            0.021  \n14                   299            0.622  \n15                    77            0.182  \n16                    56            0.000  \n17                    70            0.014  \n18                   148            0.027  \n19                    82            0.134  ",
      "text/html": "<div>\n<style scoped>\n    .dataframe tbody tr th:only-of-type {\n        vertical-align: middle;\n    }\n\n    .dataframe tbody tr th {\n        vertical-align: top;\n    }\n\n    .dataframe thead th {\n        text-align: right;\n    }\n</style>\n<table border=\"1\" class=\"dataframe\">\n  <thead>\n    <tr style=\"text-align: right;\">\n      <th></th>\n      <th>CO_ESCOLA</th>\n      <th>CO_MUNICIPIO</th>\n      <th>TP_DEPENDENCIA_ADM</th>\n      <th>TP_LOCALIZACAO</th>\n      <th>TP_SIT_FUNC</th>\n      <th>NU_COMPARECIMENTO_CN</th>\n      <th>PC_APROVACAO_CN</th>\n      <th>NU_COMPARECIMENTO_CH</th>\n      <th>PC_APROVACAO_CH</th>\n      <th>NU_COMPARECIMENTO_LC</th>\n      <th>PC_APROVACAO_LC</th>\n      <th>NU_COMPARECIMENTO_MT</th>\n      <th>PC_APROVACAO_MT</th>\n    </tr>\n  </thead>\n  <tbody>\n    <tr>\n      <th>0</th>\n      <td>0</td>\n      <td>0</td>\n      <td>0</td>\n      <td>0</td>\n      <td>0</td>\n      <td>3049502</td>\n      <td>0.034</td>\n      <td>3242965</td>\n      <td>0.050</td>\n      <td>3242965</td>\n      <td>0.008</td>\n      <td>3049502</td>\n      <td>0.121</td>\n    </tr>\n    <tr>\n      <th>1</th>\n      <td>13079220</td>\n      <td>1301902</td>\n      <td>4</td>\n      <td>1</td>\n      <td>1</td>\n      <td>26</td>\n      <td>0.077</td>\n      <td>26</td>\n      <td>0.154</td>\n      <td>26</td>\n      <td>0.000</td>\n      <td>26</td>\n      <td>0.308</td>\n    </tr>\n    <tr>\n      <th>2</th>\n      <td>29422418</td>\n      <td>2927408</td>\n      <td>2</td>\n      <td>1</td>\n      <td>1</td>\n      <td>7</td>\n      <td>0.000</td>\n      <td>7</td>\n      <td>0.000</td>\n      <td>7</td>\n      <td>0.000</td>\n      <td>7</td>\n      <td>0.000</td>\n    </tr>\n    <tr>\n      <th>3</th>\n      <td>35001259</td>\n      <td>3550308</td>\n      <td>2</td>\n      <td>1</td>\n      <td>1</td>\n      <td>50</td>\n      <td>0.000</td>\n      <td>54</td>\n      <td>0.000</td>\n      <td>54</td>\n      <td>0.000</td>\n      <td>50</td>\n      <td>0.020</td>\n    </tr>\n    <tr>\n      <th>4</th>\n      <td>35925950</td>\n      <td>3545803</td>\n      <td>2</td>\n      <td>1</td>\n      <td>1</td>\n      <td>100</td>\n      <td>0.030</td>\n      <td>102</td>\n      <td>0.059</td>\n      <td>102</td>\n      <td>0.010</td>\n      <td>100</td>\n      <td>0.130</td>\n    </tr>\n    <tr>\n      <th>5</th>\n      <td>29428408</td>\n      <td>2914604</td>\n      <td>4</td>\n      <td>1</td>\n      <td>1</td>\n      <td>94</td>\n      <td>0.096</td>\n      <td>94</td>\n      <td>0.128</td>\n      <td>94</td>\n      <td>0.000</td>\n      <td>94</td>\n      <td>0.340</td>\n    </tr>\n    <tr>\n      <th>6</th>\n      <td>35029087</td>\n      <td>3557105</td>\n      <td>2</td>\n      <td>2</td>\n      <td>1</td>\n      <td>88</td>\n      <td>0.000</td>\n      <td>91</td>\n      <td>0.044</td>\n      <td>91</td>\n      <td>0.000</td>\n      <td>88</td>\n      <td>0.068</td>\n    </tr>\n    <tr>\n      <th>7</th>\n      <td>41024397</td>\n      <td>4115200</td>\n      <td>4</td>\n      <td>1</td>\n      <td>1</td>\n      <td>106</td>\n      <td>0.208</td>\n      <td>106</td>\n      <td>0.104</td>\n      <td>106</td>\n      <td>0.019</td>\n      <td>106</td>\n      <td>0.377</td>\n    </tr>\n    <tr>\n      <th>8</th>\n      <td>22015787</td>\n      <td>2207702</td>\n      <td>2</td>\n      <td>1</td>\n      <td>1</td>\n      <td>15</td>\n      <td>0.000</td>\n      <td>17</td>\n      <td>0.000</td>\n      <td>17</td>\n      <td>0.000</td>\n      <td>15</td>\n      <td>0.000</td>\n    </tr>\n    <tr>\n      <th>9</th>\n      <td>29015227</td>\n      <td>2928109</td>\n      <td>2</td>\n      <td>1</td>\n      <td>1</td>\n      <td>213</td>\n      <td>0.000</td>\n      <td>223</td>\n      <td>0.004</td>\n      <td>223</td>\n      <td>0.000</td>\n      <td>213</td>\n      <td>0.023</td>\n    </tr>\n    <tr>\n      <th>10</th>\n      <td>29093520</td>\n      <td>2910800</td>\n      <td>2</td>\n      <td>1</td>\n      <td>1</td>\n      <td>54</td>\n      <td>0.000</td>\n      <td>59</td>\n      <td>0.000</td>\n      <td>59</td>\n      <td>0.000</td>\n      <td>54</td>\n      <td>0.000</td>\n    </tr>\n    <tr>\n      <th>11</th>\n      <td>35136136</td>\n      <td>3551603</td>\n      <td>4</td>\n      <td>1</td>\n      <td>1</td>\n      <td>21</td>\n      <td>0.190</td>\n      <td>22</td>\n      <td>0.273</td>\n      <td>22</td>\n      <td>0.136</td>\n      <td>21</td>\n      <td>0.333</td>\n    </tr>\n    <tr>\n      <th>12</th>\n      <td>35406296</td>\n      <td>3552502</td>\n      <td>2</td>\n      <td>1</td>\n      <td>1</td>\n      <td>111</td>\n      <td>0.090</td>\n      <td>111</td>\n      <td>0.126</td>\n      <td>111</td>\n      <td>0.009</td>\n      <td>111</td>\n      <td>0.405</td>\n    </tr>\n    <tr>\n      <th>13</th>\n      <td>35980067</td>\n      <td>3506003</td>\n      <td>2</td>\n      <td>1</td>\n      <td>1</td>\n      <td>96</td>\n      <td>0.000</td>\n      <td>105</td>\n      <td>0.010</td>\n      <td>105</td>\n      <td>0.000</td>\n      <td>96</td>\n      <td>0.021</td>\n    </tr>\n    <tr>\n      <th>14</th>\n      <td>41127722</td>\n      <td>4106902</td>\n      <td>4</td>\n      <td>1</td>\n      <td>1</td>\n      <td>299</td>\n      <td>0.308</td>\n      <td>305</td>\n      <td>0.344</td>\n      <td>305</td>\n      <td>0.062</td>\n      <td>299</td>\n      <td>0.622</td>\n    </tr>\n    <tr>\n      <th>15</th>\n      <td>22129570</td>\n      <td>2210607</td>\n      <td>1</td>\n      <td>1</td>\n      <td>1</td>\n      <td>77</td>\n      <td>0.013</td>\n      <td>77</td>\n      <td>0.065</td>\n      <td>77</td>\n      <td>0.000</td>\n      <td>77</td>\n      <td>0.182</td>\n    </tr>\n    <tr>\n      <th>16</th>\n      <td>53012127</td>\n      <td>5300108</td>\n      <td>2</td>\n      <td>1</td>\n      <td>1</td>\n      <td>56</td>\n      <td>0.000</td>\n      <td>68</td>\n      <td>0.000</td>\n      <td>68</td>\n      <td>0.000</td>\n      <td>56</td>\n      <td>0.000</td>\n    </tr>\n    <tr>\n      <th>17</th>\n      <td>35007833</td>\n      <td>3529401</td>\n      <td>2</td>\n      <td>1</td>\n      <td>1</td>\n      <td>70</td>\n      <td>0.000</td>\n      <td>77</td>\n      <td>0.000</td>\n      <td>77</td>\n      <td>0.000</td>\n      <td>70</td>\n      <td>0.014</td>\n    </tr>\n    <tr>\n      <th>18</th>\n      <td>33132879</td>\n      <td>3304557</td>\n      <td>2</td>\n      <td>1</td>\n      <td>1</td>\n      <td>148</td>\n      <td>0.000</td>\n      <td>158</td>\n      <td>0.000</td>\n      <td>158</td>\n      <td>0.000</td>\n      <td>148</td>\n      <td>0.027</td>\n    </tr>\n    <tr>\n      <th>19</th>\n      <td>43166440</td>\n      <td>4322806</td>\n      <td>2</td>\n      <td>1</td>\n      <td>1</td>\n      <td>82</td>\n      <td>0.000</td>\n      <td>95</td>\n      <td>0.011</td>\n      <td>95</td>\n      <td>0.000</td>\n      <td>82</td>\n      <td>0.134</td>\n    </tr>\n  </tbody>\n</table>\n</div>"
     },
     "metadata": {},
     "output_type": "execute_result",
     "execution_count": 21
    }
   ],
   "source": [
    "municipios = pd.read_csv(\"../data/municipios.csv\")\n",
    "municipios.head(20)\n",
    "escolas = pd.read_csv(\"../data/escolas.csv\")\n",
    "escolas.head(20)"
   ],
   "metadata": {
    "collapsed": false,
    "pycharm": {
     "name": "#%%\n",
     "is_executing": false
    }
   }
  },
  {
   "cell_type": "markdown",
   "source": [
    "Join com producao."
   ],
   "metadata": {
    "collapsed": false,
    "pycharm": {
     "name": "#%% md\n"
    }
   }
  },
  {
   "cell_type": "code",
   "execution_count": 22,
   "outputs": [
    {
     "data": {
      "text/plain": "(169814, 121)"
     },
     "metadata": {},
     "output_type": "execute_result",
     "execution_count": 22
    }
   ],
   "source": [
    "producao = pd.merge(\n",
    "    producao, municipios, left_on=\"CO_MUNICIPIO_RESIDENCIA\", right_on=\"CO_MUNICIPIO\"\n",
    ")\n",
    "producao = pd.merge(producao, escolas, on=\"CO_ESCOLA\")\n",
    "producao.shape"
   ],
   "metadata": {
    "collapsed": false,
    "pycharm": {
     "name": "#%%\n",
     "is_executing": false
    }
   }
  },
  {
   "cell_type": "markdown",
   "source": [
    "Codificar as categorias."
   ],
   "metadata": {
    "collapsed": false,
    "pycharm": {
     "name": "#%% md\n"
    }
   }
  },
  {
   "cell_type": "code",
   "execution_count": 23,
   "outputs": [
    {
     "name": "stdout",
     "text": [
      "(169814, 217)\n[[0. 0. 0. 0. 0. 1. 0. 0. 0. 0. 0. 0. 0. 0. 0. 0. 0. 0. 0. 0. 0. 0. 0. 0.\n  0. 1. 0. 1. 0. 0. 0. 0. 1. 0. 0. 0. 0. 0. 1. 0. 0. 0. 1. 0. 0. 0. 0. 0.\n  1. 0. 0. 0. 0. 0. 0. 0. 0. 0. 1. 0. 0. 0. 1. 0. 0. 0. 0. 1. 0. 0. 0. 0.\n  0. 0. 0. 0. 1. 0. 0. 0. 1. 0. 0. 0. 0. 0. 1. 0. 0. 0. 0. 0. 0. 0. 0. 0.\n  1. 0. 0. 0. 0. 0. 0. 0. 0. 0. 0. 0. 0. 0. 0. 0. 0. 0. 0. 1. 0. 0. 0. 0.\n  0. 0. 0. 0. 0. 0. 0. 0. 0. 1. 0. 0. 0. 0. 1. 0. 0. 0. 0. 0. 0. 1. 0. 0.\n  1. 0. 0. 0. 0. 1. 0. 0. 0. 0. 1. 0. 0. 0. 0. 1. 0. 0. 0. 0. 1. 0. 0. 0.\n  1. 0. 0. 0. 0. 1. 0. 0. 0. 0. 1. 0. 0. 0. 0. 1. 0. 0. 1. 0. 0. 0. 0. 1.\n  0. 1. 0. 0. 0. 1. 0. 1. 0. 0. 1. 0. 0. 0. 0. 1. 1. 0. 0. 0. 1. 0. 0. 0.\n  0.]\n [0. 0. 0. 1. 0. 0. 0. 0. 0. 0. 0. 0. 0. 0. 0. 0. 0. 0. 0. 0. 0. 0. 0. 0.\n  0. 1. 0. 1. 0. 0. 0. 0. 0. 0. 1. 0. 0. 0. 1. 0. 0. 0. 1. 0. 0. 0. 0. 1.\n  0. 0. 0. 0. 0. 0. 0. 0. 0. 0. 1. 0. 0. 0. 1. 0. 0. 0. 0. 0. 1. 0. 0. 0.\n  0. 0. 0. 0. 1. 0. 0. 0. 0. 1. 0. 0. 0. 0. 0. 1. 0. 0. 0. 0. 0. 0. 1. 0.\n  0. 0. 0. 0. 0. 0. 0. 0. 0. 0. 0. 0. 0. 0. 0. 0. 0. 0. 1. 0. 0. 0. 0. 0.\n  0. 0. 0. 0. 0. 0. 0. 0. 0. 1. 0. 0. 0. 0. 0. 1. 0. 0. 0. 0. 0. 1. 0. 0.\n  1. 0. 0. 0. 1. 0. 0. 0. 0. 0. 1. 0. 0. 0. 0. 1. 0. 0. 0. 0. 1. 0. 0. 0.\n  1. 0. 0. 0. 0. 0. 1. 0. 0. 0. 1. 0. 0. 0. 0. 1. 0. 0. 0. 1. 0. 0. 0. 1.\n  1. 0. 0. 0. 0. 1. 0. 0. 1. 0. 0. 1. 0. 0. 0. 1. 1. 0. 0. 0. 1. 0. 0. 0.\n  0.]]\n"
     ],
     "output_type": "stream"
    }
   ],
   "source": [
    "Features = np.empty((producao.shape[0], 0))\n",
    "for col in categorical_columns:\n",
    "    temp = encode_string(producao[col])\n",
    "    Features = np.concatenate([Features, temp], axis = 1)\n",
    "\n",
    "print(Features.shape)\n",
    "print(Features[:2, :])    "
   ],
   "metadata": {
    "collapsed": false,
    "pycharm": {
     "name": "#%%\n",
     "is_executing": false
    }
   }
  },
  {
   "cell_type": "markdown",
   "source": [
    "Concatena as colunas numéricas."
   ],
   "metadata": {
    "collapsed": false
   }
  },
  {
   "cell_type": "code",
   "execution_count": 24,
   "outputs": [
    {
     "name": "stdout",
     "text": [
      "(169814, 225)\n[[0.    0.    0.    0.    0.    1.    0.    0.    0.    0.    0.    0.\n  0.    0.    0.    0.    0.    0.    0.    0.    0.    0.    0.    0.\n  0.    1.    0.    1.    0.    0.    0.    0.    1.    0.    0.    0.\n  0.    0.    1.    0.    0.    0.    1.    0.    0.    0.    0.    0.\n  1.    0.    0.    0.    0.    0.    0.    0.    0.    0.    1.    0.\n  0.    0.    1.    0.    0.    0.    0.    1.    0.    0.    0.    0.\n  0.    0.    0.    0.    1.    0.    0.    0.    1.    0.    0.    0.\n  0.    0.    1.    0.    0.    0.    0.    0.    0.    0.    0.    0.\n  1.    0.    0.    0.    0.    0.    0.    0.    0.    0.    0.    0.\n  0.    0.    0.    0.    0.    0.    0.    1.    0.    0.    0.    0.\n  0.    0.    0.    0.    0.    0.    0.    0.    0.    1.    0.    0.\n  0.    0.    1.    0.    0.    0.    0.    0.    0.    1.    0.    0.\n  1.    0.    0.    0.    0.    1.    0.    0.    0.    0.    1.    0.\n  0.    0.    0.    1.    0.    0.    0.    0.    1.    0.    0.    0.\n  1.    0.    0.    0.    0.    1.    0.    0.    0.    0.    1.    0.\n  0.    0.    0.    1.    0.    0.    1.    0.    0.    0.    0.    1.\n  0.    1.    0.    0.    0.    1.    0.    1.    0.    0.    1.    0.\n  0.    0.    0.    1.    1.    0.    0.    0.    1.    0.    0.    0.\n  0.    0.018 0.04  0.006 0.119 0.034 0.05  0.008 0.121]\n [0.    0.    0.    1.    0.    0.    0.    0.    0.    0.    0.    0.\n  0.    0.    0.    0.    0.    0.    0.    0.    0.    0.    0.    0.\n  0.    1.    0.    1.    0.    0.    0.    0.    0.    0.    1.    0.\n  0.    0.    1.    0.    0.    0.    1.    0.    0.    0.    0.    1.\n  0.    0.    0.    0.    0.    0.    0.    0.    0.    0.    1.    0.\n  0.    0.    1.    0.    0.    0.    0.    0.    1.    0.    0.    0.\n  0.    0.    0.    0.    1.    0.    0.    0.    0.    1.    0.    0.\n  0.    0.    0.    1.    0.    0.    0.    0.    0.    0.    1.    0.\n  0.    0.    0.    0.    0.    0.    0.    0.    0.    0.    0.    0.\n  0.    0.    0.    0.    0.    0.    1.    0.    0.    0.    0.    0.\n  0.    0.    0.    0.    0.    0.    0.    0.    0.    1.    0.    0.\n  0.    0.    0.    1.    0.    0.    0.    0.    0.    1.    0.    0.\n  1.    0.    0.    0.    1.    0.    0.    0.    0.    0.    1.    0.\n  0.    0.    0.    1.    0.    0.    0.    0.    1.    0.    0.    0.\n  1.    0.    0.    0.    0.    0.    1.    0.    0.    0.    1.    0.\n  0.    0.    0.    1.    0.    0.    0.    1.    0.    0.    0.    1.\n  1.    0.    0.    0.    0.    1.    0.    0.    1.    0.    0.    1.\n  0.    0.    0.    1.    1.    0.    0.    0.    1.    0.    0.    0.\n  0.    0.018 0.04  0.006 0.119 0.034 0.05  0.008 0.121]]\n"
     ],
     "output_type": "stream"
    }
   ],
   "source": [
    "Features = np.concatenate(\n",
    "    [\n",
    "        Features,\n",
    "        producao[\n",
    "            [\n",
    "                \"PC_APROVACAO_CN_x\",\n",
    "                \"PC_APROVACAO_CH_x\",\n",
    "                \"PC_APROVACAO_LC_x\",\n",
    "                \"PC_APROVACAO_MT_x\",\n",
    "                \"PC_APROVACAO_CN_y\",\n",
    "                \"PC_APROVACAO_CH_y\",\n",
    "                \"PC_APROVACAO_LC_y\",\n",
    "                \"PC_APROVACAO_MT_y\",\n",
    "            ]\n",
    "        ].values,\n",
    "    ],\n",
    "    axis=1,\n",
    ")\n",
    "print(Features.shape)\n",
    "print(Features[:2, :])   "
   ],
   "metadata": {
    "collapsed": false,
    "pycharm": {
     "name": "#%%\n",
     "is_executing": false
    }
   }
  },
  {
   "cell_type": "markdown",
   "source": [
    "Cálculo das probabilidades."
   ],
   "metadata": {
    "collapsed": false
   }
  },
  {
   "cell_type": "code",
   "execution_count": 26,
   "outputs": [],
   "source": [
    "producao[\"PC_PROBABILIDADE_APROVACAO_CH\"] = np.tanh(\n",
    "    logistic_mod.predict_proba(Features)[:, 1] * 2.5\n",
    ")"
   ],
   "metadata": {
    "collapsed": false,
    "pycharm": {
     "name": "#%%\n",
     "is_executing": false
    }
   }
  },
  {
   "cell_type": "markdown",
   "source": [
    "Escrever resposta para arquivo."
   ],
   "metadata": {
    "collapsed": false,
    "pycharm": {
     "name": "#%% md\n"
    }
   }
  },
  {
   "cell_type": "code",
   "execution_count": 28,
   "outputs": [],
   "source": [
    "producao[[\"NU_INSCRICAO\", \"PC_PROBABILIDADE_APROVACAO_CH\"]].to_csv(\n",
    "    \"../data/producao_proba_cH.csv\", index=False\n",
    ")\n"
   ],
   "metadata": {
    "collapsed": false,
    "pycharm": {
     "name": "#%%\n",
     "is_executing": false
    }
   }
  }
 ],
 "metadata": {
  "kernelspec": {
   "display_name": "Python 3",
   "language": "python",
   "name": "python3"
  },
  "language_info": {
   "codemirror_mode": {
    "name": "ipython",
    "version": 3
   },
   "file_extension": ".py",
   "mimetype": "text/x-python",
   "name": "python",
   "nbconvert_exporter": "python",
   "pygments_lexer": "ipython3",
   "version": "3.7.1"
  },
  "pycharm": {
   "stem_cell": {
    "cell_type": "raw",
    "source": [],
    "metadata": {
     "collapsed": false
    }
   }
  }
 },
 "nbformat": 4,
 "nbformat_minor": 2
}