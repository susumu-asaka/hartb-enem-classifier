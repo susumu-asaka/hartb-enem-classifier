{
 "cells": [
  {
   "cell_type": "markdown",
   "source": [
    "# Preparação de Dados"
   ],
   "metadata": {
    "collapsed": false
   }
  },
  {
   "cell_type": "markdown",
   "source": [
    "## Carregar o dataset\n",
    "\n",
    "O código na célula abaixo importa os pacotes necessários para executar este notebook.\n"
   ],
   "metadata": {
    "collapsed": false
   }
  },
  {
   "cell_type": "code",
   "execution_count": null,
   "outputs": [],
   "source": [
    "import pandas as pd\n",
    "import numpy as np\n",
    "\n",
    "%matplotlib inline"
   ],
   "metadata": {
    "collapsed": false,
    "pycharm": {
     "name": "#%%\n"
    }
   }
  },
  {
   "cell_type": "markdown",
   "source": [
    "O código na célula abaixo carrega o dataset e imprime as primeiras linhas do data frame."
   ],
   "metadata": {
    "collapsed": false
   }
  },
  {
   "cell_type": "code",
   "execution_count": null,
   "outputs": [],
   "source": [
    "enem = pd.read_csv(\"../data/projeto_ENEM.csv\")\n",
    "enem.head(20)"
   ],
   "metadata": {
    "collapsed": false,
    "pycharm": {
     "name": "#%%\n"
    }
   }
  },
  {
   "cell_type": "markdown",
   "source": [
    "## Tratamento dos valores ausentes"
   ],
   "metadata": {
    "collapsed": false
   }
  },
  {
   "cell_type": "markdown",
   "source": [
    "Existem 5767 linhas com município de nascimento ausente. Esse dado está relacionado com outros dados municipais como município de residência e município da aplicação da prova, que pela contemporaneidade devem servir melhor para predizer o desempenho do candidato. Portanto, decidimos eliminar as colunas relativas a esse dado.\n",
    "\n",
    "Existem 121 mil linhas com dados da escola ausente, mas não podemos simplesmente eliminar essas colunas, tendo em vista que a escola é muito importante para predizer o desempenho do candidato. Desse registro, vamos manter somente a chave do registro, a coluna `CO_ESCOLA`, imputando-lhe o valor $0$ quando estiver ausente. Na seção sobre engenharia de features abaixo, mostraremos como iremos usar essa coluna para encontrar outras features mais úteis.\n",
    "\n",
    "Existem 6 linhas com `NU_IDADE` ausente e 5631 linhas com `TP_ESTADO_CIVIL` ausente. Como esses dados têm alguma importância no desempenho do candidato e são poucas em relação ao total, decidimos eliminar todas as linhas que têm esses dados ausentes.\n",
    "\n",
    "O código na célula abaixo faz as transformações descritas."
   ],
   "metadata": {
    "collapsed": false
   }
  },
  {
   "cell_type": "code",
   "execution_count": null,
   "outputs": [],
   "source": [
    "enem.drop(\n",
    "    [\n",
    "        \"CO_MUNICIPIO_NASCIMENTO\",\n",
    "        \"NO_MUNICIPIO_NASCIMENTO\",\n",
    "        \"CO_UF_NASCIMENTO\",\n",
    "        \"SG_UF_NASCIMENTO\",\n",
    "        \"TP_ENSINO\",\n",
    "        \"CO_MUNICIPIO_ESC\",\n",
    "        \"NO_MUNICIPIO_ESC\",\n",
    "        \"CO_UF_ESC\",\n",
    "        \"SG_UF_ESC\",\n",
    "        \"TP_DEPENDENCIA_ADM_ESC\",\n",
    "        \"TP_LOCALIZACAO_ESC\",\n",
    "        \"TP_SIT_FUNC_ESC\",\n",
    "    ],\n",
    "    axis=1,\n",
    "    inplace=True,\n",
    ")\n",
    "enem.loc[enem[\"CO_ESCOLA\"].isna(), \"CO_ESCOLA\"] = 0\n",
    "enem = enem[enem[\"NU_IDADE\"].notna() & enem[\"TP_ESTADO_CIVIL\"].notna()]\n",
    "enem.shape"
   ],
   "metadata": {
    "collapsed": false,
    "pycharm": {
     "name": "#%%\n"
    }
   }
  },
  {
   "cell_type": "markdown",
   "source": [
    "### Transformar o tipo de dados das colunas\n",
    "\n",
    "Existem três colunas nesse dataset que não têm o tipo correto como resultado dos valores ausentes.\n",
    "\n",
    "O código na célula abaixo itera sobre a lista de colunas os definindo como inteiros."
   ],
   "metadata": {
    "collapsed": false
   }
  },
  {
   "cell_type": "code",
   "execution_count": null,
   "outputs": [],
   "source": [
    "cols = [\"NU_IDADE\", \"TP_ESTADO_CIVIL\", \"CO_ESCOLA\"]\n",
    "for col in cols:\n",
    "    enem[col] = pd.to_numeric(enem[col], downcast=\"integer\")\n",
    "enem[cols].dtypes"
   ],
   "metadata": {
    "collapsed": false,
    "pycharm": {
     "name": "#%%\n"
    }
   }
  },
  {
   "cell_type": "markdown",
   "source": [
    "O código a seguir cria as colunas dos labels, $0$ para o candidato *reprovado* na prova, que tirou nota menor do que 650, e $1$ para o candidato *aprovado* na prova, que tirou nota 650 ou mais. Também elimina as colunas com as notas numéricas."
   ],
   "metadata": {
    "collapsed": false
   }
  },
  {
   "cell_type": "code",
   "execution_count": null,
   "outputs": [],
   "source": [
    "provas = [\"CN\", \"CH\", \"LC\", \"MT\"]\n",
    "for prova in provas:\n",
    "    nu_nota_prova = \"NU_NOTA_\" + prova\n",
    "    enem[\"LB_APROVADO_\" + prova] = np.where(enem[nu_nota_prova] < 650, 0, 1)\n",
    "    enem.drop([nu_nota_prova], axis=1, inplace=True)\n",
    "enem.head(20)"
   ],
   "metadata": {
    "collapsed": false,
    "pycharm": {
     "name": "#%%\n"
    }
   }
  },
  {
   "cell_type": "markdown",
   "source": [
    "### Engenharia de Features\n",
    "#### Agregando a idade\n",
    "O código abaixo calcula, para cada idade, quantos candidatos estão inscritos e proporção de aprovados em cada prova e grava tudo no arquivo &ldquo;data/idades.csv&rdquo;."
   ],
   "metadata": {
    "collapsed": false
   }
  },
  {
   "cell_type": "code",
   "execution_count": null,
   "outputs": [],
   "source": [
    "idades = enem.groupby(by=\"NU_IDADE\", as_index=False).agg(\n",
    "    {\n",
    "        \"NU_INSCRICAO\": np.size,\n",
    "        \"LB_APROVADO_CN\": np.sum,\n",
    "        \"LB_APROVADO_CH\": np.sum,\n",
    "        \"LB_APROVADO_LC\": np.sum,\n",
    "        \"LB_APROVADO_MT\": np.sum,\n",
    "    }\n",
    ")\n",
    "for prova in provas:\n",
    "    idades[\"PC_APROVACAO_\" + prova] = (\n",
    "        idades[\"LB_APROVADO_\" + prova] / idades[\"NU_INSCRICAO\"]\n",
    "    )\n",
    "idades.to_csv(\"../data/idades.csv\", index=False)\n",
    "idades.head(20)"
   ],
   "metadata": {
    "collapsed": false,
    "pycharm": {
     "name": "#%%\n"
    }
   }
  },
  {
   "cell_type": "markdown",
   "source": [
    "Podemos ver que a taxa de aprovação aumenta na faixa dos 15 à 20 anos, onde também estão a grande maioria dos candidatos, e decresce para os extremos. Portanto não é conveniente usar a idade diretamente para treinar o modelo, será melhor a transformar em um feature categórico dividindo em 25 faixas etárias:\n",
    "\n",
    "| Faixa Etária |\n",
    "|--------------|\n",
    "| < 15 anos    |\n",
    "| 15 anos      |\n",
    "| 16 anos |\n",
    "| 17 anos |\n",
    "| 18 anos |\n",
    "| 19 anos |\n",
    "| 20 anos |\n",
    "| 21 anos |\n",
    "| 22 anos |\n",
    "| 23 anos |\n",
    "| 24 anos |\n",
    "| 25 anos |\n",
    "| 26 anos |\n",
    "| 27 anos |\n",
    "| 28 anos |\n",
    "| 29 anos |\n",
    "| 30 anos |\n",
    "| 31&ndash;32 anos |\n",
    "| 33&ndash;34 anos |\n",
    "| 35&ndash;36 anos |\n",
    "| 37&ndash;38 anos |\n",
    "| 39&ndash;41 anos |\n",
    "| 42&ndash;45 anos |\n",
    "| 46&ndash;50 anos |\n",
    "| >50 anos |\n",
    "\n",
    "O código seguinte cria a coluna `TP_FAIXA_ETARIA`, que faz a agregação da idade explicada."
   ],
   "metadata": {
    "collapsed": false
   }
  },
  {
   "cell_type": "code",
   "execution_count": null,
   "outputs": [],
   "source": [
    "criteria = [\n",
    "    enem[\"NU_IDADE\"] < 15,\n",
    "    enem[\"NU_IDADE\"] == 15,\n",
    "    enem[\"NU_IDADE\"] == 16,\n",
    "    enem[\"NU_IDADE\"] == 17,\n",
    "    enem[\"NU_IDADE\"] == 18,\n",
    "    enem[\"NU_IDADE\"] == 19,\n",
    "    enem[\"NU_IDADE\"] == 20,\n",
    "    enem[\"NU_IDADE\"] == 21,\n",
    "    enem[\"NU_IDADE\"] == 22,\n",
    "    enem[\"NU_IDADE\"] == 23,\n",
    "    enem[\"NU_IDADE\"] == 24,\n",
    "    enem[\"NU_IDADE\"] == 25,\n",
    "    enem[\"NU_IDADE\"] == 26,\n",
    "    enem[\"NU_IDADE\"] == 27,\n",
    "    enem[\"NU_IDADE\"] == 28,\n",
    "    enem[\"NU_IDADE\"] == 29,\n",
    "    enem[\"NU_IDADE\"] == 30,\n",
    "    enem[\"NU_IDADE\"].between(31,32),\n",
    "    enem[\"NU_IDADE\"].between(33,34),\n",
    "    enem[\"NU_IDADE\"].between(35,36),\n",
    "    enem[\"NU_IDADE\"].between(37,38),\n",
    "    enem[\"NU_IDADE\"].between(39,41),\n",
    "    enem[\"NU_IDADE\"].between(42,45),\n",
    "    enem[\"NU_IDADE\"].between(46,50),\n",
    "    enem[\"NU_IDADE\"] > 50,\n",
    "]\n",
    "values = [\n",
    "    \"< 15 anos\",\n",
    "    \"15 anos\",\n",
    "    \"16 anos\",\n",
    "    \"17 anos\",\n",
    "    \"18 anos\",\n",
    "    \"19 anos\",\n",
    "    \"20 anos\",\n",
    "    \"21 anos\",\n",
    "    \"22 anos\",\n",
    "    \"23 anos\",\n",
    "    \"24 anos\",\n",
    "    \"25 anos\",\n",
    "    \"26 anos\",\n",
    "    \"27 anos\",\n",
    "    \"28 anos\",\n",
    "    \"29 anos\",\n",
    "    \"30 anos\",\n",
    "    \"31--32 anos\",\n",
    "    \"33--34 anos\",\n",
    "    \"35--36 anos\",\n",
    "    \"37--38 anos\",\n",
    "    \"39--41 anos\",\n",
    "    \"42--45 anos\",\n",
    "    \"46--50 anos\",\n",
    "    \">50 anos\",\n",
    "]\n",
    "enem[\"TP_FAIXA_ETARIA\"] = np.select(criteria, values)\n",
    "enem.head(20)"
   ],
   "metadata": {
    "collapsed": false,
    "pycharm": {
     "name": "#%%\n"
    }
   }
  },
  {
   "cell_type": "markdown",
   "source": [
    "###Uso do municipio de residência e da escola\n",
    "\n",
    "Notamos a existência de dois dados que são importantes para predizer o desempenho do estudante: o município de residência e a escola do candidato, porém, como existem milhares de municípios e escolas, não podemos usar esses dados crus para treinar os modelos, encontramos outros atributos do município e da escola que tenham poder preditivo como mostramos a seguir.\n",
    "\n",
    "Para cada municipio e escola, calculamos a proporção de candidatos aprovados em cada prova e utilizaremos esses dados como features no treinamento dos modelos.\n",
    "\n",
    "A partir do arquivo inteiro de microdados do Enem, geramos dois conjuntos de dados: um para os municípios, `dados/municipios.csv`, e outro para as escolas, `dados/escolas.csv`. Como o número de registro dos microdados do Enem é grande demais para ser tratado da maneira tradicional usando Pandas, tivemos que desenvolver um programa específico, cujo o código Python está no arquivo `read_microdados.py`. Em particular, o programa tem tempo de execução $O(n)$ e uso de memória $O(e + m)$ onde $n$ é o número de registros de microdados do Enem, $e$ é o número de escolas e $m$ o número de municípios.\n",
    "\n",
    "O código abaixo carrega o conjunto de dados relativos aos municípios."
   ],
   "metadata": {
    "collapsed": false
   }
  },
  {
   "cell_type": "code",
   "execution_count": null,
   "outputs": [],
   "source": [
    "municipios = pd.read_csv(\"../data/municipios.csv\")\n",
    "municipios.head(20)"
   ],
   "metadata": {
    "collapsed": false,
    "pycharm": {
     "name": "#%%\n"
    }
   }
  },
  {
   "cell_type": "markdown",
   "source": [
    "E o seguinte carrega o conjunto de dados relativos às escolas."
   ],
   "metadata": {
    "collapsed": false
   }
  },
  {
   "cell_type": "code",
   "execution_count": null,
   "outputs": [],
   "source": [
    "escolas = pd.read_csv(\"../data/escolas.csv\")\n",
    "escolas.head(20)"
   ],
   "metadata": {
    "collapsed": false,
    "pycharm": {
     "name": "#%%\n"
    }
   }
  },
  {
   "cell_type": "markdown",
   "source": [
    "Agora devemos fazer uma join das das duas tabelas com nossa tabela principal através do código abaixo."
   ],
   "metadata": {
    "collapsed": false
   }
  },
  {
   "cell_type": "code",
   "execution_count": null,
   "outputs": [],
   "source": [
    "enem = pd.merge(\n",
    "    enem, municipios, left_on=\"CO_MUNICIPIO_RESIDENCIA\", right_on=\"CO_MUNICIPIO\"\n",
    ")\n",
    "enem = pd.merge(enem, escolas, on=\"CO_ESCOLA\")\n",
    "enem.shape"
   ],
   "metadata": {
    "collapsed": false,
    "pycharm": {
     "name": "#%%\n"
    }
   }
  },
  {
   "cell_type": "markdown",
   "source": [
    "Assim chegamos ao dataset final com 171 mil linhas e 125 colunas.\n",
    "\n",
    "Vamos gravar o dataset para um arquivo csv."
   ],
   "metadata": {
    "collapsed": false
   }
  },
  {
   "cell_type": "code",
   "execution_count": null,
   "outputs": [],
   "source": [
    "enem.to_csv('../data/enem_preparado.csv', index = False, header = True)\n"
   ],
   "metadata": {
    "collapsed": false,
    "pycharm": {
     "name": "#%%\n"
    }
   }
  }
 ],
 "metadata": {
  "kernelspec": {
   "display_name": "Python 3",
   "language": "python",
   "name": "python3"
  },
  "language_info": {
   "codemirror_mode": {
    "name": "ipython",
    "version": 3
   },
   "file_extension": ".py",
   "mimetype": "text/x-python",
   "name": "python",
   "nbconvert_exporter": "python",
   "pygments_lexer": "ipython3",
   "version": "3.7.1"
  },
  "pycharm": {
   "stem_cell": {
    "cell_type": "raw",
    "source": [],
    "metadata": {
     "collapsed": false
    }
   }
  }
 },
 "nbformat": 4,
 "nbformat_minor": 2
}